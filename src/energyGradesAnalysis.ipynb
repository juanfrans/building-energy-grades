{
 "cells": [
  {
   "cell_type": "markdown",
   "metadata": {},
   "source": [
    "## Importing libraries"
   ]
  },
  {
   "cell_type": "code",
   "execution_count": 1,
   "metadata": {},
   "outputs": [
    {
     "name": "stderr",
     "output_type": "stream",
     "text": [
      "/usr/local/lib/python3.9/site-packages/geopandas/_compat.py:111: UserWarning: The Shapely GEOS version (3.9.1-CAPI-1.14.2) is incompatible with the GEOS version PyGEOS was compiled with (3.10.1-CAPI-1.16.0). Conversions between both will be slow.\n",
      "  warnings.warn(\n"
     ]
    }
   ],
   "source": [
    "import pandas as pd\n",
    "import numpy as np\n",
    "import geopandas as gpd\n",
    "import altair as alt"
   ]
  },
  {
   "cell_type": "code",
   "execution_count": 2,
   "metadata": {},
   "outputs": [
    {
     "data": {
      "text/plain": [
       "DataTransformerRegistry.enable('json')"
      ]
     },
     "execution_count": 2,
     "metadata": {},
     "output_type": "execute_result"
    }
   ],
   "source": [
    "alt.data_transformers.enable('json')\n",
    "alt.data_transformers.disable_max_rows()"
   ]
  },
  {
   "cell_type": "markdown",
   "metadata": {},
   "source": [
    "## Importing Energy Grade Data"
   ]
  },
  {
   "cell_type": "markdown",
   "metadata": {},
   "source": [
    "### Importing 2020 Data"
   ]
  },
  {
   "cell_type": "code",
   "execution_count": 3,
   "metadata": {},
   "outputs": [],
   "source": [
    "energyData2020 = gpd.read_file('https://github.com/juanfrans/building-energy-grades/blob/main/input/ll33_2020.zip?raw=true')"
   ]
  },
  {
   "cell_type": "code",
   "execution_count": 4,
   "metadata": {},
   "outputs": [
    {
     "data": {
      "text/html": [
       "<div>\n",
       "<style scoped>\n",
       "    .dataframe tbody tr th:only-of-type {\n",
       "        vertical-align: middle;\n",
       "    }\n",
       "\n",
       "    .dataframe tbody tr th {\n",
       "        vertical-align: top;\n",
       "    }\n",
       "\n",
       "    .dataframe thead th {\n",
       "        text-align: right;\n",
       "    }\n",
       "</style>\n",
       "<table border=\"1\" class=\"dataframe\">\n",
       "  <thead>\n",
       "    <tr style=\"text-align: right;\">\n",
       "      <th></th>\n",
       "      <th>OBJECTID</th>\n",
       "      <th>ID</th>\n",
       "      <th>Required_t</th>\n",
       "      <th>Boro</th>\n",
       "      <th>Block_1</th>\n",
       "      <th>Lot_1</th>\n",
       "      <th>Esmnt</th>\n",
       "      <th>Building_C</th>\n",
       "      <th>Tax_Class</th>\n",
       "      <th>Building_1</th>\n",
       "      <th>...</th>\n",
       "      <th>BBL_Duplic</th>\n",
       "      <th>dobnyc_G_1</th>\n",
       "      <th>BBL_1</th>\n",
       "      <th>BBL_MapPLU</th>\n",
       "      <th>Shape_Leng</th>\n",
       "      <th>Shape_Area</th>\n",
       "      <th>EnergyStar</th>\n",
       "      <th>LetterGrad</th>\n",
       "      <th>DCAS_City</th>\n",
       "      <th>geometry</th>\n",
       "    </tr>\n",
       "  </thead>\n",
       "  <tbody>\n",
       "    <tr>\n",
       "      <th>0</th>\n",
       "      <td>1</td>\n",
       "      <td>24369</td>\n",
       "      <td>None</td>\n",
       "      <td>1</td>\n",
       "      <td>1</td>\n",
       "      <td>10</td>\n",
       "      <td>None</td>\n",
       "      <td>Y4</td>\n",
       "      <td>0</td>\n",
       "      <td>124</td>\n",
       "      <td>...</td>\n",
       "      <td>None</td>\n",
       "      <td>D/1</td>\n",
       "      <td>1000010010</td>\n",
       "      <td>1000010010</td>\n",
       "      <td>12277.823358</td>\n",
       "      <td>7.550339e+06</td>\n",
       "      <td>1</td>\n",
       "      <td>D</td>\n",
       "      <td>Y</td>\n",
       "      <td>POLYGON ((-74.02240 40.68443, -74.02404 40.683...</td>\n",
       "    </tr>\n",
       "    <tr>\n",
       "      <th>1</th>\n",
       "      <td>2</td>\n",
       "      <td>24370</td>\n",
       "      <td>None</td>\n",
       "      <td>1</td>\n",
       "      <td>2</td>\n",
       "      <td>23</td>\n",
       "      <td>None</td>\n",
       "      <td>T2</td>\n",
       "      <td>0</td>\n",
       "      <td>1</td>\n",
       "      <td>...</td>\n",
       "      <td>None</td>\n",
       "      <td>F/-</td>\n",
       "      <td>1000020023</td>\n",
       "      <td>1000020023</td>\n",
       "      <td>2949.779170</td>\n",
       "      <td>9.690237e+04</td>\n",
       "      <td>0</td>\n",
       "      <td>F</td>\n",
       "      <td>Y</td>\n",
       "      <td>MULTIPOLYGON (((-74.01107 40.70151, -74.01107 ...</td>\n",
       "    </tr>\n",
       "    <tr>\n",
       "      <th>2</th>\n",
       "      <td>3</td>\n",
       "      <td>1</td>\n",
       "      <td>N</td>\n",
       "      <td>1</td>\n",
       "      <td>4</td>\n",
       "      <td>7501</td>\n",
       "      <td>None</td>\n",
       "      <td>R0</td>\n",
       "      <td>2</td>\n",
       "      <td>1</td>\n",
       "      <td>...</td>\n",
       "      <td>None</td>\n",
       "      <td>C/61</td>\n",
       "      <td>1000047501</td>\n",
       "      <td>1000047501</td>\n",
       "      <td>1360.324896</td>\n",
       "      <td>1.168011e+05</td>\n",
       "      <td>61</td>\n",
       "      <td>C</td>\n",
       "      <td>N</td>\n",
       "      <td>POLYGON ((-74.01264 40.70240, -74.01256 40.702...</td>\n",
       "    </tr>\n",
       "    <tr>\n",
       "      <th>3</th>\n",
       "      <td>4</td>\n",
       "      <td>3</td>\n",
       "      <td>N</td>\n",
       "      <td>1</td>\n",
       "      <td>5</td>\n",
       "      <td>7501</td>\n",
       "      <td>None</td>\n",
       "      <td>R0</td>\n",
       "      <td>2</td>\n",
       "      <td>1</td>\n",
       "      <td>...</td>\n",
       "      <td>None</td>\n",
       "      <td>B/76</td>\n",
       "      <td>1000057501</td>\n",
       "      <td>1000057501</td>\n",
       "      <td>979.466956</td>\n",
       "      <td>5.599025e+04</td>\n",
       "      <td>76</td>\n",
       "      <td>B</td>\n",
       "      <td>N</td>\n",
       "      <td>POLYGON ((-74.01120 40.70243, -74.01012 40.702...</td>\n",
       "    </tr>\n",
       "    <tr>\n",
       "      <th>4</th>\n",
       "      <td>5</td>\n",
       "      <td>7</td>\n",
       "      <td>Y</td>\n",
       "      <td>1</td>\n",
       "      <td>8</td>\n",
       "      <td>7501</td>\n",
       "      <td>None</td>\n",
       "      <td>R0</td>\n",
       "      <td>2</td>\n",
       "      <td>1</td>\n",
       "      <td>...</td>\n",
       "      <td>None</td>\n",
       "      <td>D/13</td>\n",
       "      <td>1000087501</td>\n",
       "      <td>1000087501</td>\n",
       "      <td>415.017124</td>\n",
       "      <td>1.053833e+04</td>\n",
       "      <td>13</td>\n",
       "      <td>D</td>\n",
       "      <td>N</td>\n",
       "      <td>POLYGON ((-74.01278 40.70275, -74.01289 40.703...</td>\n",
       "    </tr>\n",
       "  </tbody>\n",
       "</table>\n",
       "<p>5 rows × 26 columns</p>\n",
       "</div>"
      ],
      "text/plain": [
       "   OBJECTID     ID Required_t  Boro  Block_1  Lot_1 Esmnt Building_C  \\\n",
       "0         1  24369       None     1        1     10  None         Y4   \n",
       "1         2  24370       None     1        2     23  None         T2   \n",
       "2         3      1          N     1        4   7501  None         R0   \n",
       "3         4      3          N     1        5   7501  None         R0   \n",
       "4         5      7          Y     1        8   7501  None         R0   \n",
       "\n",
       "   Tax_Class  Building_1  ...  BBL_Duplic dobnyc_G_1       BBL_1  BBL_MapPLU  \\\n",
       "0          0         124  ...        None        D/1  1000010010  1000010010   \n",
       "1          0           1  ...        None        F/-  1000020023  1000020023   \n",
       "2          2           1  ...        None       C/61  1000047501  1000047501   \n",
       "3          2           1  ...        None       B/76  1000057501  1000057501   \n",
       "4          2           1  ...        None       D/13  1000087501  1000087501   \n",
       "\n",
       "     Shape_Leng    Shape_Area EnergyStar LetterGrad  DCAS_City  \\\n",
       "0  12277.823358  7.550339e+06          1          D          Y   \n",
       "1   2949.779170  9.690237e+04          0          F          Y   \n",
       "2   1360.324896  1.168011e+05         61          C          N   \n",
       "3    979.466956  5.599025e+04         76          B          N   \n",
       "4    415.017124  1.053833e+04         13          D          N   \n",
       "\n",
       "                                            geometry  \n",
       "0  POLYGON ((-74.02240 40.68443, -74.02404 40.683...  \n",
       "1  MULTIPOLYGON (((-74.01107 40.70151, -74.01107 ...  \n",
       "2  POLYGON ((-74.01264 40.70240, -74.01256 40.702...  \n",
       "3  POLYGON ((-74.01120 40.70243, -74.01012 40.702...  \n",
       "4  POLYGON ((-74.01278 40.70275, -74.01289 40.703...  \n",
       "\n",
       "[5 rows x 26 columns]"
      ]
     },
     "execution_count": 4,
     "metadata": {},
     "output_type": "execute_result"
    }
   ],
   "source": [
    "energyData2020.head()"
   ]
  },
  {
   "cell_type": "code",
   "execution_count": 5,
   "metadata": {},
   "outputs": [
    {
     "data": {
      "text/html": [
       "<div>\n",
       "<style scoped>\n",
       "    .dataframe tbody tr th:only-of-type {\n",
       "        vertical-align: middle;\n",
       "    }\n",
       "\n",
       "    .dataframe tbody tr th {\n",
       "        vertical-align: top;\n",
       "    }\n",
       "\n",
       "    .dataframe thead th {\n",
       "        text-align: right;\n",
       "    }\n",
       "</style>\n",
       "<table border=\"1\" class=\"dataframe\">\n",
       "  <thead>\n",
       "    <tr style=\"text-align: right;\">\n",
       "      <th></th>\n",
       "      <th>OBJECTID</th>\n",
       "      <th>ID</th>\n",
       "      <th>Required_t</th>\n",
       "      <th>Boro</th>\n",
       "      <th>Block_1</th>\n",
       "      <th>Lot_1</th>\n",
       "      <th>Esmnt</th>\n",
       "      <th>Building_C</th>\n",
       "      <th>Tax_Class</th>\n",
       "      <th>Building_1</th>\n",
       "      <th>...</th>\n",
       "      <th>BBL_Duplic</th>\n",
       "      <th>dobnyc_G_1</th>\n",
       "      <th>BBL_1</th>\n",
       "      <th>BBL_MapPLU</th>\n",
       "      <th>Shape_Leng</th>\n",
       "      <th>Shape_Area</th>\n",
       "      <th>EnergyStar</th>\n",
       "      <th>LetterGrad</th>\n",
       "      <th>DCAS_City</th>\n",
       "      <th>geometry</th>\n",
       "    </tr>\n",
       "  </thead>\n",
       "  <tbody>\n",
       "    <tr>\n",
       "      <th>21676</th>\n",
       "      <td>21677</td>\n",
       "      <td>26626</td>\n",
       "      <td>None</td>\n",
       "      <td>5</td>\n",
       "      <td>3696</td>\n",
       "      <td>100</td>\n",
       "      <td>None</td>\n",
       "      <td>W1</td>\n",
       "      <td>0</td>\n",
       "      <td>2</td>\n",
       "      <td>...</td>\n",
       "      <td>None</td>\n",
       "      <td>A/97</td>\n",
       "      <td>5036960100</td>\n",
       "      <td>5036960100</td>\n",
       "      <td>2098.428554</td>\n",
       "      <td>257526.888970</td>\n",
       "      <td>97</td>\n",
       "      <td>A</td>\n",
       "      <td>Y</td>\n",
       "      <td>POLYGON ((-74.09842 40.57677, -74.09855 40.576...</td>\n",
       "    </tr>\n",
       "    <tr>\n",
       "      <th>21677</th>\n",
       "      <td>21678</td>\n",
       "      <td>24319</td>\n",
       "      <td>Y</td>\n",
       "      <td>5</td>\n",
       "      <td>3983</td>\n",
       "      <td>65</td>\n",
       "      <td>None</td>\n",
       "      <td>D3</td>\n",
       "      <td>2</td>\n",
       "      <td>2</td>\n",
       "      <td>...</td>\n",
       "      <td>None</td>\n",
       "      <td>B/82</td>\n",
       "      <td>5039830065</td>\n",
       "      <td>5039830065</td>\n",
       "      <td>1994.304592</td>\n",
       "      <td>192135.569684</td>\n",
       "      <td>82</td>\n",
       "      <td>B</td>\n",
       "      <td>N</td>\n",
       "      <td>POLYGON ((-74.11093 40.56352, -74.11288 40.564...</td>\n",
       "    </tr>\n",
       "    <tr>\n",
       "      <th>21678</th>\n",
       "      <td>21679</td>\n",
       "      <td>24340</td>\n",
       "      <td>N</td>\n",
       "      <td>5</td>\n",
       "      <td>5497</td>\n",
       "      <td>7</td>\n",
       "      <td>None</td>\n",
       "      <td>K6</td>\n",
       "      <td>4</td>\n",
       "      <td>1</td>\n",
       "      <td>...</td>\n",
       "      <td>None</td>\n",
       "      <td>D/28</td>\n",
       "      <td>5054970007</td>\n",
       "      <td>5054970007</td>\n",
       "      <td>2405.170686</td>\n",
       "      <td>221538.034369</td>\n",
       "      <td>28</td>\n",
       "      <td>D</td>\n",
       "      <td>N</td>\n",
       "      <td>POLYGON ((-74.15969 40.54598, -74.16183 40.544...</td>\n",
       "    </tr>\n",
       "    <tr>\n",
       "      <th>21679</th>\n",
       "      <td>21680</td>\n",
       "      <td>26649</td>\n",
       "      <td>None</td>\n",
       "      <td>5</td>\n",
       "      <td>6544</td>\n",
       "      <td>1</td>\n",
       "      <td>None</td>\n",
       "      <td>W1</td>\n",
       "      <td>0</td>\n",
       "      <td>4</td>\n",
       "      <td>...</td>\n",
       "      <td>None</td>\n",
       "      <td>A/96</td>\n",
       "      <td>5065440001</td>\n",
       "      <td>5065440001</td>\n",
       "      <td>1694.879690</td>\n",
       "      <td>157236.325985</td>\n",
       "      <td>96</td>\n",
       "      <td>A</td>\n",
       "      <td>Y</td>\n",
       "      <td>POLYGON ((-74.18614 40.52383, -74.18516 40.522...</td>\n",
       "    </tr>\n",
       "    <tr>\n",
       "      <th>21680</th>\n",
       "      <td>21681</td>\n",
       "      <td>26664</td>\n",
       "      <td>None</td>\n",
       "      <td>5</td>\n",
       "      <td>7971</td>\n",
       "      <td>250</td>\n",
       "      <td>None</td>\n",
       "      <td>K1</td>\n",
       "      <td>0</td>\n",
       "      <td>2</td>\n",
       "      <td>...</td>\n",
       "      <td>None</td>\n",
       "      <td>A/89</td>\n",
       "      <td>5079710250</td>\n",
       "      <td>5079710250</td>\n",
       "      <td>2431.620527</td>\n",
       "      <td>283879.990929</td>\n",
       "      <td>89</td>\n",
       "      <td>A</td>\n",
       "      <td>N</td>\n",
       "      <td>POLYGON ((-74.23587 40.52091, -74.23590 40.520...</td>\n",
       "    </tr>\n",
       "  </tbody>\n",
       "</table>\n",
       "<p>5 rows × 26 columns</p>\n",
       "</div>"
      ],
      "text/plain": [
       "       OBJECTID     ID Required_t  Boro  Block_1  Lot_1 Esmnt Building_C  \\\n",
       "21676     21677  26626       None     5     3696    100  None         W1   \n",
       "21677     21678  24319          Y     5     3983     65  None         D3   \n",
       "21678     21679  24340          N     5     5497      7  None         K6   \n",
       "21679     21680  26649       None     5     6544      1  None         W1   \n",
       "21680     21681  26664       None     5     7971    250  None         K1   \n",
       "\n",
       "       Tax_Class  Building_1  ...  BBL_Duplic dobnyc_G_1       BBL_1  \\\n",
       "21676          0           2  ...        None       A/97  5036960100   \n",
       "21677          2           2  ...        None       B/82  5039830065   \n",
       "21678          4           1  ...        None       D/28  5054970007   \n",
       "21679          0           4  ...        None       A/96  5065440001   \n",
       "21680          0           2  ...        None       A/89  5079710250   \n",
       "\n",
       "       BBL_MapPLU   Shape_Leng     Shape_Area EnergyStar LetterGrad  \\\n",
       "21676  5036960100  2098.428554  257526.888970         97          A   \n",
       "21677  5039830065  1994.304592  192135.569684         82          B   \n",
       "21678  5054970007  2405.170686  221538.034369         28          D   \n",
       "21679  5065440001  1694.879690  157236.325985         96          A   \n",
       "21680  5079710250  2431.620527  283879.990929         89          A   \n",
       "\n",
       "       DCAS_City                                           geometry  \n",
       "21676          Y  POLYGON ((-74.09842 40.57677, -74.09855 40.576...  \n",
       "21677          N  POLYGON ((-74.11093 40.56352, -74.11288 40.564...  \n",
       "21678          N  POLYGON ((-74.15969 40.54598, -74.16183 40.544...  \n",
       "21679          Y  POLYGON ((-74.18614 40.52383, -74.18516 40.522...  \n",
       "21680          N  POLYGON ((-74.23587 40.52091, -74.23590 40.520...  \n",
       "\n",
       "[5 rows x 26 columns]"
      ]
     },
     "execution_count": 5,
     "metadata": {},
     "output_type": "execute_result"
    }
   ],
   "source": [
    "energyData2020.tail()"
   ]
  },
  {
   "cell_type": "code",
   "execution_count": 6,
   "metadata": {},
   "outputs": [
    {
     "data": {
      "text/plain": [
       "(21681, 26)"
      ]
     },
     "execution_count": 6,
     "metadata": {},
     "output_type": "execute_result"
    }
   ],
   "source": [
    "energyData2020.shape"
   ]
  },
  {
   "cell_type": "code",
   "execution_count": 7,
   "metadata": {},
   "outputs": [
    {
     "data": {
      "text/plain": [
       "Index(['OBJECTID', 'ID', 'Required_t', 'Boro', 'Block_1', 'Lot_1', 'Esmnt',\n",
       "       'Building_C', 'Tax_Class', 'Building_1', 'DOF_Gross_', 'Street_Num',\n",
       "       'Street_Nam', 'Zipcode_1', 'BoroughNam', 'BBL_Altere', 'BBL_Duplic',\n",
       "       'dobnyc_G_1', 'BBL_1', 'BBL_MapPLU', 'Shape_Leng', 'Shape_Area',\n",
       "       'EnergyStar', 'LetterGrad', 'DCAS_City', 'geometry'],\n",
       "      dtype='object')"
      ]
     },
     "execution_count": 7,
     "metadata": {},
     "output_type": "execute_result"
    }
   ],
   "source": [
    "energyData2020.columns"
   ]
  },
  {
   "cell_type": "markdown",
   "metadata": {},
   "source": [
    "Does the `Building_C` column correspond to the values on the PLUTO dataset?\n",
    "\n",
    "The columns that originally came with the PDF are:\n",
    "\n",
    "* BBL\n",
    "* Street number\n",
    "* Street name\n",
    "* DOF square footage (dept. of finance?)\n",
    "* Energy start 1-100 score\n",
    "* Energy efficiency grade"
   ]
  },
  {
   "cell_type": "code",
   "execution_count": 8,
   "metadata": {},
   "outputs": [
    {
     "data": {
      "text/html": [
       "<div>\n",
       "<style scoped>\n",
       "    .dataframe tbody tr th:only-of-type {\n",
       "        vertical-align: middle;\n",
       "    }\n",
       "\n",
       "    .dataframe tbody tr th {\n",
       "        vertical-align: top;\n",
       "    }\n",
       "\n",
       "    .dataframe thead th {\n",
       "        text-align: right;\n",
       "    }\n",
       "</style>\n",
       "<table border=\"1\" class=\"dataframe\">\n",
       "  <thead>\n",
       "    <tr style=\"text-align: right;\">\n",
       "      <th></th>\n",
       "      <th>OBJECTID</th>\n",
       "      <th>ID</th>\n",
       "      <th>Required_t</th>\n",
       "      <th>Boro</th>\n",
       "      <th>Block_1</th>\n",
       "      <th>Lot_1</th>\n",
       "      <th>Esmnt</th>\n",
       "      <th>Building_C</th>\n",
       "      <th>Tax_Class</th>\n",
       "      <th>Building_1</th>\n",
       "      <th>...</th>\n",
       "      <th>BBL_Duplic</th>\n",
       "      <th>dobnyc_G_1</th>\n",
       "      <th>BBL_1</th>\n",
       "      <th>BBL_MapPLU</th>\n",
       "      <th>Shape_Leng</th>\n",
       "      <th>Shape_Area</th>\n",
       "      <th>EnergyStar</th>\n",
       "      <th>LetterGrad</th>\n",
       "      <th>DCAS_City</th>\n",
       "      <th>geometry</th>\n",
       "    </tr>\n",
       "  </thead>\n",
       "  <tbody>\n",
       "    <tr>\n",
       "      <th>3863</th>\n",
       "      <td>3864</td>\n",
       "      <td>6160</td>\n",
       "      <td>N</td>\n",
       "      <td>1</td>\n",
       "      <td>1460</td>\n",
       "      <td>1</td>\n",
       "      <td>None</td>\n",
       "      <td>D4</td>\n",
       "      <td>2</td>\n",
       "      <td>1</td>\n",
       "      <td>...</td>\n",
       "      <td>None</td>\n",
       "      <td>C/60</td>\n",
       "      <td>1014600001</td>\n",
       "      <td>1014600001</td>\n",
       "      <td>432.167090</td>\n",
       "      <td>11670.869641</td>\n",
       "      <td>60</td>\n",
       "      <td>C</td>\n",
       "      <td>N</td>\n",
       "      <td>POLYGON ((-73.95853 40.76349, -73.95850 40.763...</td>\n",
       "    </tr>\n",
       "    <tr>\n",
       "      <th>9162</th>\n",
       "      <td>9163</td>\n",
       "      <td>10414</td>\n",
       "      <td>Y</td>\n",
       "      <td>2</td>\n",
       "      <td>2712</td>\n",
       "      <td>23</td>\n",
       "      <td>None</td>\n",
       "      <td>D1</td>\n",
       "      <td>2</td>\n",
       "      <td>1</td>\n",
       "      <td>...</td>\n",
       "      <td>None</td>\n",
       "      <td>C/64</td>\n",
       "      <td>2027120023</td>\n",
       "      <td>2027120023</td>\n",
       "      <td>421.824509</td>\n",
       "      <td>11101.749996</td>\n",
       "      <td>64</td>\n",
       "      <td>C</td>\n",
       "      <td>N</td>\n",
       "      <td>POLYGON ((-73.89437 40.82086, -73.89437 40.820...</td>\n",
       "    </tr>\n",
       "    <tr>\n",
       "      <th>5046</th>\n",
       "      <td>5047</td>\n",
       "      <td>5006</td>\n",
       "      <td>N</td>\n",
       "      <td>1</td>\n",
       "      <td>1268</td>\n",
       "      <td>7503</td>\n",
       "      <td>None</td>\n",
       "      <td>R0</td>\n",
       "      <td>2</td>\n",
       "      <td>1</td>\n",
       "      <td>...</td>\n",
       "      <td>None</td>\n",
       "      <td>D/15</td>\n",
       "      <td>1012687503</td>\n",
       "      <td>1012687503</td>\n",
       "      <td>568.334906</td>\n",
       "      <td>18989.753470</td>\n",
       "      <td>15</td>\n",
       "      <td>D</td>\n",
       "      <td>N</td>\n",
       "      <td>POLYGON ((-73.97699 40.76083, -73.97718 40.760...</td>\n",
       "    </tr>\n",
       "    <tr>\n",
       "      <th>9315</th>\n",
       "      <td>9316</td>\n",
       "      <td>13128</td>\n",
       "      <td>Y</td>\n",
       "      <td>2</td>\n",
       "      <td>3915</td>\n",
       "      <td>23</td>\n",
       "      <td>None</td>\n",
       "      <td>W2</td>\n",
       "      <td>4</td>\n",
       "      <td>1</td>\n",
       "      <td>...</td>\n",
       "      <td>None</td>\n",
       "      <td>A/100</td>\n",
       "      <td>2039150023</td>\n",
       "      <td>2039150023</td>\n",
       "      <td>448.696029</td>\n",
       "      <td>12388.091780</td>\n",
       "      <td>100</td>\n",
       "      <td>A</td>\n",
       "      <td>N</td>\n",
       "      <td>POLYGON ((-73.86832 40.83761, -73.86867 40.837...</td>\n",
       "    </tr>\n",
       "    <tr>\n",
       "      <th>15120</th>\n",
       "      <td>15121</td>\n",
       "      <td>21554</td>\n",
       "      <td>N</td>\n",
       "      <td>4</td>\n",
       "      <td>1918</td>\n",
       "      <td>65</td>\n",
       "      <td>None</td>\n",
       "      <td>D1</td>\n",
       "      <td>2</td>\n",
       "      <td>1</td>\n",
       "      <td>...</td>\n",
       "      <td>None</td>\n",
       "      <td>A/86</td>\n",
       "      <td>4019180065</td>\n",
       "      <td>4019180065</td>\n",
       "      <td>910.302964</td>\n",
       "      <td>51582.919181</td>\n",
       "      <td>86</td>\n",
       "      <td>A</td>\n",
       "      <td>N</td>\n",
       "      <td>POLYGON ((-73.86196 40.73708, -73.86253 40.736...</td>\n",
       "    </tr>\n",
       "  </tbody>\n",
       "</table>\n",
       "<p>5 rows × 26 columns</p>\n",
       "</div>"
      ],
      "text/plain": [
       "       OBJECTID     ID Required_t  Boro  Block_1  Lot_1 Esmnt Building_C  \\\n",
       "3863       3864   6160          N     1     1460      1  None         D4   \n",
       "9162       9163  10414          Y     2     2712     23  None         D1   \n",
       "5046       5047   5006          N     1     1268   7503  None         R0   \n",
       "9315       9316  13128          Y     2     3915     23  None         W2   \n",
       "15120     15121  21554          N     4     1918     65  None         D1   \n",
       "\n",
       "       Tax_Class  Building_1  ...  BBL_Duplic dobnyc_G_1       BBL_1  \\\n",
       "3863           2           1  ...        None       C/60  1014600001   \n",
       "9162           2           1  ...        None       C/64  2027120023   \n",
       "5046           2           1  ...        None       D/15  1012687503   \n",
       "9315           4           1  ...        None      A/100  2039150023   \n",
       "15120          2           1  ...        None       A/86  4019180065   \n",
       "\n",
       "       BBL_MapPLU  Shape_Leng    Shape_Area EnergyStar LetterGrad  DCAS_City  \\\n",
       "3863   1014600001  432.167090  11670.869641         60          C          N   \n",
       "9162   2027120023  421.824509  11101.749996         64          C          N   \n",
       "5046   1012687503  568.334906  18989.753470         15          D          N   \n",
       "9315   2039150023  448.696029  12388.091780        100          A          N   \n",
       "15120  4019180065  910.302964  51582.919181         86          A          N   \n",
       "\n",
       "                                                geometry  \n",
       "3863   POLYGON ((-73.95853 40.76349, -73.95850 40.763...  \n",
       "9162   POLYGON ((-73.89437 40.82086, -73.89437 40.820...  \n",
       "5046   POLYGON ((-73.97699 40.76083, -73.97718 40.760...  \n",
       "9315   POLYGON ((-73.86832 40.83761, -73.86867 40.837...  \n",
       "15120  POLYGON ((-73.86196 40.73708, -73.86253 40.736...  \n",
       "\n",
       "[5 rows x 26 columns]"
      ]
     },
     "execution_count": 8,
     "metadata": {},
     "output_type": "execute_result"
    }
   ],
   "source": [
    "energyData2020.sample(5)"
   ]
  },
  {
   "cell_type": "code",
   "execution_count": 9,
   "metadata": {},
   "outputs": [
    {
     "data": {
      "text/plain": [
       "OBJECTID         int64\n",
       "ID               int64\n",
       "Required_t      object\n",
       "Boro             int64\n",
       "Block_1          int64\n",
       "Lot_1            int64\n",
       "Esmnt           object\n",
       "Building_C      object\n",
       "Tax_Class        int64\n",
       "Building_1       int64\n",
       "DOF_Gross_       int64\n",
       "Street_Num      object\n",
       "Street_Nam      object\n",
       "Zipcode_1        int64\n",
       "BoroughNam      object\n",
       "BBL_Altere      object\n",
       "BBL_Duplic      object\n",
       "dobnyc_G_1      object\n",
       "BBL_1            int64\n",
       "BBL_MapPLU       int64\n",
       "Shape_Leng     float64\n",
       "Shape_Area     float64\n",
       "EnergyStar       int64\n",
       "LetterGrad      object\n",
       "DCAS_City       object\n",
       "geometry      geometry\n",
       "dtype: object"
      ]
     },
     "execution_count": 9,
     "metadata": {},
     "output_type": "execute_result"
    }
   ],
   "source": [
    "energyData2020.dtypes"
   ]
  },
  {
   "cell_type": "markdown",
   "metadata": {},
   "source": [
    "### Importing 2021 Data"
   ]
  },
  {
   "cell_type": "code",
   "execution_count": 10,
   "metadata": {},
   "outputs": [],
   "source": [
    "energyData2021 = pd.read_excel('https://github.com/juanfrans/building-energy-grades/blob/main/input/Preliminary%202021%20LL33%20Data%20Disclosure.xlsx?raw=true')"
   ]
  },
  {
   "cell_type": "code",
   "execution_count": 11,
   "metadata": {},
   "outputs": [
    {
     "data": {
      "text/html": [
       "<div>\n",
       "<style scoped>\n",
       "    .dataframe tbody tr th:only-of-type {\n",
       "        vertical-align: middle;\n",
       "    }\n",
       "\n",
       "    .dataframe tbody tr th {\n",
       "        vertical-align: top;\n",
       "    }\n",
       "\n",
       "    .dataframe thead th {\n",
       "        text-align: right;\n",
       "    }\n",
       "</style>\n",
       "<table border=\"1\" class=\"dataframe\">\n",
       "  <thead>\n",
       "    <tr style=\"text-align: right;\">\n",
       "      <th></th>\n",
       "      <th>10 Digit BBL</th>\n",
       "      <th>2021 score</th>\n",
       "      <th>2021 grade</th>\n",
       "      <th>Boro</th>\n",
       "      <th>Block</th>\n",
       "      <th>Lot</th>\n",
       "      <th>Building Count</th>\n",
       "      <th>DOF Gross Square Footage</th>\n",
       "      <th>Street Number</th>\n",
       "      <th>Street Name</th>\n",
       "    </tr>\n",
       "  </thead>\n",
       "  <tbody>\n",
       "    <tr>\n",
       "      <th>0</th>\n",
       "      <td>1008567502</td>\n",
       "      <td>73.0</td>\n",
       "      <td>B</td>\n",
       "      <td>1</td>\n",
       "      <td>856</td>\n",
       "      <td>7502</td>\n",
       "      <td>1</td>\n",
       "      <td>341125</td>\n",
       "      <td>225</td>\n",
       "      <td>5 AVENUE</td>\n",
       "    </tr>\n",
       "    <tr>\n",
       "      <th>1</th>\n",
       "      <td>4012380040</td>\n",
       "      <td>51.0</td>\n",
       "      <td>D</td>\n",
       "      <td>4</td>\n",
       "      <td>1238</td>\n",
       "      <td>40</td>\n",
       "      <td>1</td>\n",
       "      <td>208252</td>\n",
       "      <td>39-60</td>\n",
       "      <td>54 STREET</td>\n",
       "    </tr>\n",
       "    <tr>\n",
       "      <th>2</th>\n",
       "      <td>1008380021</td>\n",
       "      <td>86.0</td>\n",
       "      <td>A</td>\n",
       "      <td>1</td>\n",
       "      <td>838</td>\n",
       "      <td>21</td>\n",
       "      <td>1</td>\n",
       "      <td>57636</td>\n",
       "      <td>35</td>\n",
       "      <td>WEST 36 STREET</td>\n",
       "    </tr>\n",
       "    <tr>\n",
       "      <th>3</th>\n",
       "      <td>1007620025</td>\n",
       "      <td>64.0</td>\n",
       "      <td>C</td>\n",
       "      <td>1</td>\n",
       "      <td>762</td>\n",
       "      <td>25</td>\n",
       "      <td>1</td>\n",
       "      <td>274209</td>\n",
       "      <td>307</td>\n",
       "      <td>WEST 38 STREET</td>\n",
       "    </tr>\n",
       "    <tr>\n",
       "      <th>4</th>\n",
       "      <td>2036000004</td>\n",
       "      <td>51.0</td>\n",
       "      <td>D</td>\n",
       "      <td>2</td>\n",
       "      <td>3600</td>\n",
       "      <td>4</td>\n",
       "      <td>11</td>\n",
       "      <td>1021752</td>\n",
       "      <td>1850</td>\n",
       "      <td>LAFAYETTE AVENUE</td>\n",
       "    </tr>\n",
       "  </tbody>\n",
       "</table>\n",
       "</div>"
      ],
      "text/plain": [
       "   10 Digit BBL   2021 score 2021 grade  Boro  Block   Lot  Building Count  \\\n",
       "0     1008567502        73.0          B     1    856  7502               1   \n",
       "1     4012380040        51.0          D     4   1238    40               1   \n",
       "2     1008380021        86.0          A     1    838    21               1   \n",
       "3     1007620025        64.0          C     1    762    25               1   \n",
       "4     2036000004        51.0          D     2   3600     4              11   \n",
       "\n",
       "   DOF Gross Square Footage  Street Number       Street Name  \n",
       "0                     341125           225          5 AVENUE  \n",
       "1                     208252         39-60         54 STREET  \n",
       "2                      57636            35    WEST 36 STREET  \n",
       "3                     274209           307    WEST 38 STREET  \n",
       "4                    1021752          1850  LAFAYETTE AVENUE  "
      ]
     },
     "execution_count": 11,
     "metadata": {},
     "output_type": "execute_result"
    }
   ],
   "source": [
    "energyData2021.head()"
   ]
  },
  {
   "cell_type": "code",
   "execution_count": 12,
   "metadata": {},
   "outputs": [
    {
     "data": {
      "text/html": [
       "<div>\n",
       "<style scoped>\n",
       "    .dataframe tbody tr th:only-of-type {\n",
       "        vertical-align: middle;\n",
       "    }\n",
       "\n",
       "    .dataframe tbody tr th {\n",
       "        vertical-align: top;\n",
       "    }\n",
       "\n",
       "    .dataframe thead th {\n",
       "        text-align: right;\n",
       "    }\n",
       "</style>\n",
       "<table border=\"1\" class=\"dataframe\">\n",
       "  <thead>\n",
       "    <tr style=\"text-align: right;\">\n",
       "      <th></th>\n",
       "      <th>10 Digit BBL</th>\n",
       "      <th>2021 score</th>\n",
       "      <th>2021 grade</th>\n",
       "      <th>Boro</th>\n",
       "      <th>Block</th>\n",
       "      <th>Lot</th>\n",
       "      <th>Building Count</th>\n",
       "      <th>DOF Gross Square Footage</th>\n",
       "      <th>Street Number</th>\n",
       "      <th>Street Name</th>\n",
       "    </tr>\n",
       "  </thead>\n",
       "  <tbody>\n",
       "    <tr>\n",
       "      <th>20355</th>\n",
       "      <td>5076260001</td>\n",
       "      <td>100.0</td>\n",
       "      <td>A</td>\n",
       "      <td>5</td>\n",
       "      <td>7626</td>\n",
       "      <td>1</td>\n",
       "      <td>1</td>\n",
       "      <td>31300</td>\n",
       "      <td>2</td>\n",
       "      <td>ARTHUR KILL ROAD</td>\n",
       "    </tr>\n",
       "    <tr>\n",
       "      <th>20356</th>\n",
       "      <td>5079910100</td>\n",
       "      <td>88.0</td>\n",
       "      <td>A</td>\n",
       "      <td>5</td>\n",
       "      <td>7991</td>\n",
       "      <td>100</td>\n",
       "      <td>1</td>\n",
       "      <td>50451</td>\n",
       "      <td>99</td>\n",
       "      <td>ELLIS STREET</td>\n",
       "    </tr>\n",
       "    <tr>\n",
       "      <th>20357</th>\n",
       "      <td>5080080134</td>\n",
       "      <td>NaN</td>\n",
       "      <td>F</td>\n",
       "      <td>5</td>\n",
       "      <td>8008</td>\n",
       "      <td>134</td>\n",
       "      <td>4</td>\n",
       "      <td>64167</td>\n",
       "      <td>250</td>\n",
       "      <td>PAGE AVENUE</td>\n",
       "    </tr>\n",
       "    <tr>\n",
       "      <th>20358</th>\n",
       "      <td>2025260090</td>\n",
       "      <td>22.0</td>\n",
       "      <td>D</td>\n",
       "      <td>2</td>\n",
       "      <td>2526</td>\n",
       "      <td>90</td>\n",
       "      <td>1</td>\n",
       "      <td>475438</td>\n",
       "      <td>1131</td>\n",
       "      <td>OGDEN AVENUE</td>\n",
       "    </tr>\n",
       "    <tr>\n",
       "      <th>20359</th>\n",
       "      <td>3005020038</td>\n",
       "      <td>NaN</td>\n",
       "      <td>F</td>\n",
       "      <td>3</td>\n",
       "      <td>502</td>\n",
       "      <td>38</td>\n",
       "      <td>1</td>\n",
       "      <td>33000</td>\n",
       "      <td>133</td>\n",
       "      <td>VAN DUZER STREET</td>\n",
       "    </tr>\n",
       "  </tbody>\n",
       "</table>\n",
       "</div>"
      ],
      "text/plain": [
       "       10 Digit BBL   2021 score 2021 grade  Boro  Block  Lot  Building Count  \\\n",
       "20355     5076260001       100.0          A     5   7626    1               1   \n",
       "20356     5079910100        88.0          A     5   7991  100               1   \n",
       "20357     5080080134         NaN          F     5   8008  134               4   \n",
       "20358     2025260090        22.0          D     2   2526   90               1   \n",
       "20359     3005020038         NaN          F     3    502   38               1   \n",
       "\n",
       "       DOF Gross Square Footage  Street Number       Street Name  \n",
       "20355                      31300             2  ARTHUR KILL ROAD  \n",
       "20356                      50451            99      ELLIS STREET  \n",
       "20357                      64167           250       PAGE AVENUE  \n",
       "20358                     475438          1131      OGDEN AVENUE  \n",
       "20359                      33000           133  VAN DUZER STREET  "
      ]
     },
     "execution_count": 12,
     "metadata": {},
     "output_type": "execute_result"
    }
   ],
   "source": [
    "energyData2021.tail()"
   ]
  },
  {
   "cell_type": "code",
   "execution_count": 13,
   "metadata": {},
   "outputs": [
    {
     "data": {
      "text/plain": [
       "(20360, 10)"
      ]
     },
     "execution_count": 13,
     "metadata": {},
     "output_type": "execute_result"
    }
   ],
   "source": [
    "energyData2021.shape"
   ]
  },
  {
   "cell_type": "code",
   "execution_count": 14,
   "metadata": {},
   "outputs": [
    {
     "data": {
      "text/plain": [
       "Index(['10 Digit BBL ', '2021 score', '2021 grade', 'Boro', 'Block', 'Lot',\n",
       "       'Building Count', 'DOF Gross Square Footage ', 'Street Number',\n",
       "       'Street Name'],\n",
       "      dtype='object')"
      ]
     },
     "execution_count": 14,
     "metadata": {},
     "output_type": "execute_result"
    }
   ],
   "source": [
    "energyData2021.columns"
   ]
  },
  {
   "cell_type": "code",
   "execution_count": 15,
   "metadata": {},
   "outputs": [
    {
     "data": {
      "text/plain": [
       "10 Digit BBL                   int64\n",
       "2021 score                   float64\n",
       "2021 grade                    object\n",
       "Boro                           int64\n",
       "Block                          int64\n",
       "Lot                            int64\n",
       "Building Count                 int64\n",
       "DOF Gross Square Footage       int64\n",
       "Street Number                 object\n",
       "Street Name                   object\n",
       "dtype: object"
      ]
     },
     "execution_count": 15,
     "metadata": {},
     "output_type": "execute_result"
    }
   ],
   "source": [
    "energyData2021.dtypes"
   ]
  },
  {
   "cell_type": "code",
   "execution_count": 16,
   "metadata": {},
   "outputs": [
    {
     "data": {
      "text/html": [
       "<div>\n",
       "<style scoped>\n",
       "    .dataframe tbody tr th:only-of-type {\n",
       "        vertical-align: middle;\n",
       "    }\n",
       "\n",
       "    .dataframe tbody tr th {\n",
       "        vertical-align: top;\n",
       "    }\n",
       "\n",
       "    .dataframe thead th {\n",
       "        text-align: right;\n",
       "    }\n",
       "</style>\n",
       "<table border=\"1\" class=\"dataframe\">\n",
       "  <thead>\n",
       "    <tr style=\"text-align: right;\">\n",
       "      <th></th>\n",
       "      <th>10 Digit BBL</th>\n",
       "      <th>2021 score</th>\n",
       "      <th>2021 grade</th>\n",
       "      <th>Boro</th>\n",
       "      <th>Block</th>\n",
       "      <th>Lot</th>\n",
       "      <th>Building Count</th>\n",
       "      <th>DOF Gross Square Footage</th>\n",
       "      <th>Street Number</th>\n",
       "      <th>Street Name</th>\n",
       "    </tr>\n",
       "  </thead>\n",
       "  <tbody>\n",
       "    <tr>\n",
       "      <th>13439</th>\n",
       "      <td>3023467502</td>\n",
       "      <td>NaN</td>\n",
       "      <td>F</td>\n",
       "      <td>3</td>\n",
       "      <td>2346</td>\n",
       "      <td>7502</td>\n",
       "      <td>1</td>\n",
       "      <td>36515</td>\n",
       "      <td>349</td>\n",
       "      <td>METROPOLITAN AVENUE</td>\n",
       "    </tr>\n",
       "    <tr>\n",
       "      <th>20116</th>\n",
       "      <td>5000050051</td>\n",
       "      <td>89.0</td>\n",
       "      <td>A</td>\n",
       "      <td>5</td>\n",
       "      <td>5</td>\n",
       "      <td>51</td>\n",
       "      <td>1</td>\n",
       "      <td>168722</td>\n",
       "      <td>60</td>\n",
       "      <td>BAY STREET</td>\n",
       "    </tr>\n",
       "    <tr>\n",
       "      <th>6208</th>\n",
       "      <td>1018950038</td>\n",
       "      <td>59.0</td>\n",
       "      <td>C</td>\n",
       "      <td>1</td>\n",
       "      <td>1895</td>\n",
       "      <td>38</td>\n",
       "      <td>1</td>\n",
       "      <td>102951</td>\n",
       "      <td>404</td>\n",
       "      <td>RIVERSIDE DRIVE</td>\n",
       "    </tr>\n",
       "    <tr>\n",
       "      <th>9396</th>\n",
       "      <td>2029900050</td>\n",
       "      <td>87.0</td>\n",
       "      <td>A</td>\n",
       "      <td>2</td>\n",
       "      <td>2990</td>\n",
       "      <td>50</td>\n",
       "      <td>1</td>\n",
       "      <td>46100</td>\n",
       "      <td>1665</td>\n",
       "      <td>VYSE AVENUE</td>\n",
       "    </tr>\n",
       "    <tr>\n",
       "      <th>2826</th>\n",
       "      <td>1010100061</td>\n",
       "      <td>37.0</td>\n",
       "      <td>D</td>\n",
       "      <td>1</td>\n",
       "      <td>1010</td>\n",
       "      <td>61</td>\n",
       "      <td>1</td>\n",
       "      <td>120738</td>\n",
       "      <td>911</td>\n",
       "      <td>7 AVENUE</td>\n",
       "    </tr>\n",
       "  </tbody>\n",
       "</table>\n",
       "</div>"
      ],
      "text/plain": [
       "       10 Digit BBL   2021 score 2021 grade  Boro  Block   Lot  \\\n",
       "13439     3023467502         NaN          F     3   2346  7502   \n",
       "20116     5000050051        89.0          A     5      5    51   \n",
       "6208      1018950038        59.0          C     1   1895    38   \n",
       "9396      2029900050        87.0          A     2   2990    50   \n",
       "2826      1010100061        37.0          D     1   1010    61   \n",
       "\n",
       "       Building Count  DOF Gross Square Footage  Street Number  \\\n",
       "13439               1                      36515           349   \n",
       "20116               1                     168722            60   \n",
       "6208                1                     102951           404   \n",
       "9396                1                      46100          1665   \n",
       "2826                1                     120738           911   \n",
       "\n",
       "               Street Name  \n",
       "13439  METROPOLITAN AVENUE  \n",
       "20116           BAY STREET  \n",
       "6208       RIVERSIDE DRIVE  \n",
       "9396           VYSE AVENUE  \n",
       "2826              7 AVENUE  "
      ]
     },
     "execution_count": 16,
     "metadata": {},
     "output_type": "execute_result"
    }
   ],
   "source": [
    "energyData2021.sample(5)"
   ]
  },
  {
   "cell_type": "markdown",
   "metadata": {},
   "source": [
    "## Cleaning the data"
   ]
  },
  {
   "cell_type": "code",
   "execution_count": 17,
   "metadata": {},
   "outputs": [
    {
     "data": {
      "text/plain": [
       "array(['D', 'F', 'C', 'B', 'A'], dtype=object)"
      ]
     },
     "execution_count": 17,
     "metadata": {},
     "output_type": "execute_result"
    }
   ],
   "source": [
    "energyData2020['LetterGrad'].unique()"
   ]
  },
  {
   "cell_type": "code",
   "execution_count": 18,
   "metadata": {},
   "outputs": [
    {
     "data": {
      "text/plain": [
       "D    9163\n",
       "B    3610\n",
       "C    3376\n",
       "A    3364\n",
       "F    2168\n",
       "Name: LetterGrad, dtype: int64"
      ]
     },
     "execution_count": 18,
     "metadata": {},
     "output_type": "execute_result"
    }
   ],
   "source": [
    "energyData2020['LetterGrad'].value_counts(ascending=False)"
   ]
  },
  {
   "cell_type": "code",
   "execution_count": 19,
   "metadata": {},
   "outputs": [],
   "source": [
    "energyData2020 = energyData2020[energyData2020['LetterGrad'] != 'F'].copy(deep=True)"
   ]
  },
  {
   "cell_type": "code",
   "execution_count": 20,
   "metadata": {},
   "outputs": [
    {
     "data": {
      "text/plain": [
       "(19513, 26)"
      ]
     },
     "execution_count": 20,
     "metadata": {},
     "output_type": "execute_result"
    }
   ],
   "source": [
    "energyData2020.shape"
   ]
  },
  {
   "cell_type": "code",
   "execution_count": 21,
   "metadata": {},
   "outputs": [
    {
     "data": {
      "text/plain": [
       "D    7977\n",
       "A    4046\n",
       "B    3340\n",
       "C    3139\n",
       "F    1858\n",
       "Name: 2021 grade, dtype: int64"
      ]
     },
     "execution_count": 21,
     "metadata": {},
     "output_type": "execute_result"
    }
   ],
   "source": [
    "energyData2021['2021 grade'].value_counts(ascending=False)"
   ]
  },
  {
   "cell_type": "code",
   "execution_count": 22,
   "metadata": {},
   "outputs": [],
   "source": [
    "energyData2021 = energyData2021[energyData2021['2021 grade'] != 'F'].copy(deep=True)"
   ]
  },
  {
   "cell_type": "code",
   "execution_count": 23,
   "metadata": {},
   "outputs": [
    {
     "data": {
      "text/plain": [
       "(18502, 10)"
      ]
     },
     "execution_count": 23,
     "metadata": {},
     "output_type": "execute_result"
    }
   ],
   "source": [
    "energyData2021.shape"
   ]
  },
  {
   "cell_type": "code",
   "execution_count": 24,
   "metadata": {},
   "outputs": [],
   "source": [
    "energyData2020 = energyData2020[['Boro', 'Block_1', 'Lot_1', 'Building_1', 'DOF_Gross_', 'Street_Num',\n",
    "       'Street_Nam', 'BBL_1', 'EnergyStar', 'LetterGrad', 'geometry']].copy(deep=True)"
   ]
  },
  {
   "cell_type": "code",
   "execution_count": 25,
   "metadata": {},
   "outputs": [],
   "source": [
    "energyData2020.rename(columns={'Block_1':'Block', 'Lot_1':'Lot', 'Building_1':'BuildingCount', 'DOF_Gross_':'GrossSF', 'Street_Num':'StreetNumber',\n",
    "       'Street_Nam':'StreetName', 'BBL_1':'BBL', 'EnergyStar':'EnergyScore', 'LetterGrad':'EnergyGrade'}, inplace=True)\n",
    "energyData2021.rename(columns={'10 Digit BBL ':'BBL', '2021 score':'EnergyScore', '2021 grade':'EnergyGrade',\n",
    "       'Building Count':'BuildingCount', 'DOF Gross Square Footage ':'GrossSF', 'Street Number':'StreetNumber',\n",
    "       'Street Name':'StreetName'}, inplace=True)"
   ]
  },
  {
   "cell_type": "markdown",
   "metadata": {},
   "source": [
    "## Summary Statistics"
   ]
  },
  {
   "cell_type": "code",
   "execution_count": 26,
   "metadata": {},
   "outputs": [
    {
     "data": {
      "text/plain": [
       "100"
      ]
     },
     "execution_count": 26,
     "metadata": {},
     "output_type": "execute_result"
    }
   ],
   "source": [
    "energyData2020['EnergyScore'].max()"
   ]
  },
  {
   "cell_type": "code",
   "execution_count": 27,
   "metadata": {},
   "outputs": [
    {
     "data": {
      "text/plain": [
       "1"
      ]
     },
     "execution_count": 27,
     "metadata": {},
     "output_type": "execute_result"
    }
   ],
   "source": [
    "energyData2020['EnergyScore'].min()"
   ]
  },
  {
   "cell_type": "code",
   "execution_count": 28,
   "metadata": {},
   "outputs": [
    {
     "data": {
      "text/plain": [
       "count    19513.000000\n",
       "mean        54.395839\n",
       "std         28.729948\n",
       "min          1.000000\n",
       "25%         32.000000\n",
       "50%         57.000000\n",
       "75%         78.000000\n",
       "max        100.000000\n",
       "Name: EnergyScore, dtype: float64"
      ]
     },
     "execution_count": 28,
     "metadata": {},
     "output_type": "execute_result"
    }
   ],
   "source": [
    "energyData2020['EnergyScore'].describe()"
   ]
  },
  {
   "cell_type": "code",
   "execution_count": 29,
   "metadata": {},
   "outputs": [
    {
     "data": {
      "text/plain": [
       "count    18502.000000\n",
       "mean        57.278835\n",
       "std         28.921142\n",
       "min          1.000000\n",
       "25%         35.000000\n",
       "50%         61.000000\n",
       "75%         82.000000\n",
       "max        100.000000\n",
       "Name: EnergyScore, dtype: float64"
      ]
     },
     "execution_count": 29,
     "metadata": {},
     "output_type": "execute_result"
    }
   ],
   "source": [
    "energyData2021['EnergyScore'].describe()"
   ]
  },
  {
   "cell_type": "code",
   "execution_count": 30,
   "metadata": {},
   "outputs": [
    {
     "data": {
      "text/html": [
       "\n",
       "<div id=\"altair-viz-fac09e97035d46b6964be56b125933b4\"></div>\n",
       "<script type=\"text/javascript\">\n",
       "  var VEGA_DEBUG = (typeof VEGA_DEBUG == \"undefined\") ? {} : VEGA_DEBUG;\n",
       "  (function(spec, embedOpt){\n",
       "    let outputDiv = document.currentScript.previousElementSibling;\n",
       "    if (outputDiv.id !== \"altair-viz-fac09e97035d46b6964be56b125933b4\") {\n",
       "      outputDiv = document.getElementById(\"altair-viz-fac09e97035d46b6964be56b125933b4\");\n",
       "    }\n",
       "    const paths = {\n",
       "      \"vega\": \"https://cdn.jsdelivr.net/npm//vega@5?noext\",\n",
       "      \"vega-lib\": \"https://cdn.jsdelivr.net/npm//vega-lib?noext\",\n",
       "      \"vega-lite\": \"https://cdn.jsdelivr.net/npm//vega-lite@4.17.0?noext\",\n",
       "      \"vega-embed\": \"https://cdn.jsdelivr.net/npm//vega-embed@6?noext\",\n",
       "    };\n",
       "\n",
       "    function maybeLoadScript(lib, version) {\n",
       "      var key = `${lib.replace(\"-\", \"\")}_version`;\n",
       "      return (VEGA_DEBUG[key] == version) ?\n",
       "        Promise.resolve(paths[lib]) :\n",
       "        new Promise(function(resolve, reject) {\n",
       "          var s = document.createElement('script');\n",
       "          document.getElementsByTagName(\"head\")[0].appendChild(s);\n",
       "          s.async = true;\n",
       "          s.onload = () => {\n",
       "            VEGA_DEBUG[key] = version;\n",
       "            return resolve(paths[lib]);\n",
       "          };\n",
       "          s.onerror = () => reject(`Error loading script: ${paths[lib]}`);\n",
       "          s.src = paths[lib];\n",
       "        });\n",
       "    }\n",
       "\n",
       "    function showError(err) {\n",
       "      outputDiv.innerHTML = `<div class=\"error\" style=\"color:red;\">${err}</div>`;\n",
       "      throw err;\n",
       "    }\n",
       "\n",
       "    function displayChart(vegaEmbed) {\n",
       "      vegaEmbed(outputDiv, spec, embedOpt)\n",
       "        .catch(err => showError(`Javascript Error: ${err.message}<br>This usually means there's a typo in your chart specification. See the javascript console for the full traceback.`));\n",
       "    }\n",
       "\n",
       "    if(typeof define === \"function\" && define.amd) {\n",
       "      requirejs.config({paths});\n",
       "      require([\"vega-embed\"], displayChart, err => showError(`Error loading script: ${err.message}`));\n",
       "    } else {\n",
       "      maybeLoadScript(\"vega\", \"5\")\n",
       "        .then(() => maybeLoadScript(\"vega-lite\", \"4.17.0\"))\n",
       "        .then(() => maybeLoadScript(\"vega-embed\", \"6\"))\n",
       "        .catch(showError)\n",
       "        .then(() => displayChart(vegaEmbed));\n",
       "    }\n",
       "  })({\"config\": {\"view\": {\"continuousWidth\": 400, \"continuousHeight\": 300}}, \"data\": {\"url\": \"altair-data-28b879b038283251a3035e185b77b4c5.json\", \"format\": {\"type\": \"json\"}}, \"mark\": \"bar\", \"encoding\": {\"x\": {\"field\": \"EnergyGrade\", \"type\": \"ordinal\"}, \"y\": {\"aggregate\": \"count\", \"type\": \"quantitative\"}}, \"$schema\": \"https://vega.github.io/schema/vega-lite/v4.17.0.json\"}, {\"mode\": \"vega-lite\"});\n",
       "</script>"
      ],
      "text/plain": [
       "alt.Chart(...)"
      ]
     },
     "execution_count": 30,
     "metadata": {},
     "output_type": "execute_result"
    }
   ],
   "source": [
    "alt.Chart(energyData2020).mark_bar().encode(\n",
    "    x=alt.X('EnergyGrade:O'),\n",
    "    y=alt.Y('count():Q')\n",
    ")"
   ]
  },
  {
   "cell_type": "code",
   "execution_count": 31,
   "metadata": {},
   "outputs": [
    {
     "data": {
      "text/html": [
       "\n",
       "<div id=\"altair-viz-ff1c5ba76eb04b51b10fd27eecb32a85\"></div>\n",
       "<script type=\"text/javascript\">\n",
       "  var VEGA_DEBUG = (typeof VEGA_DEBUG == \"undefined\") ? {} : VEGA_DEBUG;\n",
       "  (function(spec, embedOpt){\n",
       "    let outputDiv = document.currentScript.previousElementSibling;\n",
       "    if (outputDiv.id !== \"altair-viz-ff1c5ba76eb04b51b10fd27eecb32a85\") {\n",
       "      outputDiv = document.getElementById(\"altair-viz-ff1c5ba76eb04b51b10fd27eecb32a85\");\n",
       "    }\n",
       "    const paths = {\n",
       "      \"vega\": \"https://cdn.jsdelivr.net/npm//vega@5?noext\",\n",
       "      \"vega-lib\": \"https://cdn.jsdelivr.net/npm//vega-lib?noext\",\n",
       "      \"vega-lite\": \"https://cdn.jsdelivr.net/npm//vega-lite@4.17.0?noext\",\n",
       "      \"vega-embed\": \"https://cdn.jsdelivr.net/npm//vega-embed@6?noext\",\n",
       "    };\n",
       "\n",
       "    function maybeLoadScript(lib, version) {\n",
       "      var key = `${lib.replace(\"-\", \"\")}_version`;\n",
       "      return (VEGA_DEBUG[key] == version) ?\n",
       "        Promise.resolve(paths[lib]) :\n",
       "        new Promise(function(resolve, reject) {\n",
       "          var s = document.createElement('script');\n",
       "          document.getElementsByTagName(\"head\")[0].appendChild(s);\n",
       "          s.async = true;\n",
       "          s.onload = () => {\n",
       "            VEGA_DEBUG[key] = version;\n",
       "            return resolve(paths[lib]);\n",
       "          };\n",
       "          s.onerror = () => reject(`Error loading script: ${paths[lib]}`);\n",
       "          s.src = paths[lib];\n",
       "        });\n",
       "    }\n",
       "\n",
       "    function showError(err) {\n",
       "      outputDiv.innerHTML = `<div class=\"error\" style=\"color:red;\">${err}</div>`;\n",
       "      throw err;\n",
       "    }\n",
       "\n",
       "    function displayChart(vegaEmbed) {\n",
       "      vegaEmbed(outputDiv, spec, embedOpt)\n",
       "        .catch(err => showError(`Javascript Error: ${err.message}<br>This usually means there's a typo in your chart specification. See the javascript console for the full traceback.`));\n",
       "    }\n",
       "\n",
       "    if(typeof define === \"function\" && define.amd) {\n",
       "      requirejs.config({paths});\n",
       "      require([\"vega-embed\"], displayChart, err => showError(`Error loading script: ${err.message}`));\n",
       "    } else {\n",
       "      maybeLoadScript(\"vega\", \"5\")\n",
       "        .then(() => maybeLoadScript(\"vega-lite\", \"4.17.0\"))\n",
       "        .then(() => maybeLoadScript(\"vega-embed\", \"6\"))\n",
       "        .catch(showError)\n",
       "        .then(() => displayChart(vegaEmbed));\n",
       "    }\n",
       "  })({\"config\": {\"view\": {\"continuousWidth\": 400, \"continuousHeight\": 300}}, \"data\": {\"url\": \"altair-data-28b879b038283251a3035e185b77b4c5.json\", \"format\": {\"type\": \"json\"}}, \"mark\": \"bar\", \"encoding\": {\"color\": {\"field\": \"EnergyGrade\", \"type\": \"ordinal\"}, \"x\": {\"aggregate\": \"count\", \"axis\": {\"format\": \".0%\"}, \"stack\": \"normalize\", \"type\": \"quantitative\"}}, \"$schema\": \"https://vega.github.io/schema/vega-lite/v4.17.0.json\"}, {\"mode\": \"vega-lite\"});\n",
       "</script>"
      ],
      "text/plain": [
       "alt.Chart(...)"
      ]
     },
     "execution_count": 31,
     "metadata": {},
     "output_type": "execute_result"
    }
   ],
   "source": [
    "alt.Chart(energyData2020).mark_bar().encode(\n",
    "    color=alt.Color('EnergyGrade:O'),\n",
    "    x=alt.X('count():Q', stack='normalize', axis=alt.Axis(format='.0%'))\n",
    ")"
   ]
  },
  {
   "cell_type": "code",
   "execution_count": 32,
   "metadata": {},
   "outputs": [
    {
     "data": {
      "text/html": [
       "\n",
       "<div id=\"altair-viz-002477f8d1f246a6a1997c3bf56a367c\"></div>\n",
       "<script type=\"text/javascript\">\n",
       "  var VEGA_DEBUG = (typeof VEGA_DEBUG == \"undefined\") ? {} : VEGA_DEBUG;\n",
       "  (function(spec, embedOpt){\n",
       "    let outputDiv = document.currentScript.previousElementSibling;\n",
       "    if (outputDiv.id !== \"altair-viz-002477f8d1f246a6a1997c3bf56a367c\") {\n",
       "      outputDiv = document.getElementById(\"altair-viz-002477f8d1f246a6a1997c3bf56a367c\");\n",
       "    }\n",
       "    const paths = {\n",
       "      \"vega\": \"https://cdn.jsdelivr.net/npm//vega@5?noext\",\n",
       "      \"vega-lib\": \"https://cdn.jsdelivr.net/npm//vega-lib?noext\",\n",
       "      \"vega-lite\": \"https://cdn.jsdelivr.net/npm//vega-lite@4.17.0?noext\",\n",
       "      \"vega-embed\": \"https://cdn.jsdelivr.net/npm//vega-embed@6?noext\",\n",
       "    };\n",
       "\n",
       "    function maybeLoadScript(lib, version) {\n",
       "      var key = `${lib.replace(\"-\", \"\")}_version`;\n",
       "      return (VEGA_DEBUG[key] == version) ?\n",
       "        Promise.resolve(paths[lib]) :\n",
       "        new Promise(function(resolve, reject) {\n",
       "          var s = document.createElement('script');\n",
       "          document.getElementsByTagName(\"head\")[0].appendChild(s);\n",
       "          s.async = true;\n",
       "          s.onload = () => {\n",
       "            VEGA_DEBUG[key] = version;\n",
       "            return resolve(paths[lib]);\n",
       "          };\n",
       "          s.onerror = () => reject(`Error loading script: ${paths[lib]}`);\n",
       "          s.src = paths[lib];\n",
       "        });\n",
       "    }\n",
       "\n",
       "    function showError(err) {\n",
       "      outputDiv.innerHTML = `<div class=\"error\" style=\"color:red;\">${err}</div>`;\n",
       "      throw err;\n",
       "    }\n",
       "\n",
       "    function displayChart(vegaEmbed) {\n",
       "      vegaEmbed(outputDiv, spec, embedOpt)\n",
       "        .catch(err => showError(`Javascript Error: ${err.message}<br>This usually means there's a typo in your chart specification. See the javascript console for the full traceback.`));\n",
       "    }\n",
       "\n",
       "    if(typeof define === \"function\" && define.amd) {\n",
       "      requirejs.config({paths});\n",
       "      require([\"vega-embed\"], displayChart, err => showError(`Error loading script: ${err.message}`));\n",
       "    } else {\n",
       "      maybeLoadScript(\"vega\", \"5\")\n",
       "        .then(() => maybeLoadScript(\"vega-lite\", \"4.17.0\"))\n",
       "        .then(() => maybeLoadScript(\"vega-embed\", \"6\"))\n",
       "        .catch(showError)\n",
       "        .then(() => displayChart(vegaEmbed));\n",
       "    }\n",
       "  })({\"config\": {\"view\": {\"continuousWidth\": 400, \"continuousHeight\": 300}}, \"data\": {\"url\": \"altair-data-549e114e77d9823d1ce7af414d26aa29.json\", \"format\": {\"type\": \"json\"}}, \"mark\": \"bar\", \"encoding\": {\"color\": {\"field\": \"EnergyGrade\", \"type\": \"ordinal\"}, \"x\": {\"aggregate\": \"count\", \"axis\": {\"format\": \".0%\"}, \"stack\": \"normalize\", \"type\": \"quantitative\"}}, \"$schema\": \"https://vega.github.io/schema/vega-lite/v4.17.0.json\"}, {\"mode\": \"vega-lite\"});\n",
       "</script>"
      ],
      "text/plain": [
       "alt.Chart(...)"
      ]
     },
     "execution_count": 32,
     "metadata": {},
     "output_type": "execute_result"
    }
   ],
   "source": [
    "alt.Chart(energyData2021).mark_bar().encode(\n",
    "    color=alt.Color('EnergyGrade:O'),\n",
    "    x=alt.X('count():Q', stack='normalize', axis=alt.Axis(format='.0%'))\n",
    ")"
   ]
  },
  {
   "cell_type": "code",
   "execution_count": 33,
   "metadata": {},
   "outputs": [
    {
     "data": {
      "text/html": [
       "\n",
       "<div id=\"altair-viz-dc21db5e591641f8bb6a341d61aa75f1\"></div>\n",
       "<script type=\"text/javascript\">\n",
       "  var VEGA_DEBUG = (typeof VEGA_DEBUG == \"undefined\") ? {} : VEGA_DEBUG;\n",
       "  (function(spec, embedOpt){\n",
       "    let outputDiv = document.currentScript.previousElementSibling;\n",
       "    if (outputDiv.id !== \"altair-viz-dc21db5e591641f8bb6a341d61aa75f1\") {\n",
       "      outputDiv = document.getElementById(\"altair-viz-dc21db5e591641f8bb6a341d61aa75f1\");\n",
       "    }\n",
       "    const paths = {\n",
       "      \"vega\": \"https://cdn.jsdelivr.net/npm//vega@5?noext\",\n",
       "      \"vega-lib\": \"https://cdn.jsdelivr.net/npm//vega-lib?noext\",\n",
       "      \"vega-lite\": \"https://cdn.jsdelivr.net/npm//vega-lite@4.17.0?noext\",\n",
       "      \"vega-embed\": \"https://cdn.jsdelivr.net/npm//vega-embed@6?noext\",\n",
       "    };\n",
       "\n",
       "    function maybeLoadScript(lib, version) {\n",
       "      var key = `${lib.replace(\"-\", \"\")}_version`;\n",
       "      return (VEGA_DEBUG[key] == version) ?\n",
       "        Promise.resolve(paths[lib]) :\n",
       "        new Promise(function(resolve, reject) {\n",
       "          var s = document.createElement('script');\n",
       "          document.getElementsByTagName(\"head\")[0].appendChild(s);\n",
       "          s.async = true;\n",
       "          s.onload = () => {\n",
       "            VEGA_DEBUG[key] = version;\n",
       "            return resolve(paths[lib]);\n",
       "          };\n",
       "          s.onerror = () => reject(`Error loading script: ${paths[lib]}`);\n",
       "          s.src = paths[lib];\n",
       "        });\n",
       "    }\n",
       "\n",
       "    function showError(err) {\n",
       "      outputDiv.innerHTML = `<div class=\"error\" style=\"color:red;\">${err}</div>`;\n",
       "      throw err;\n",
       "    }\n",
       "\n",
       "    function displayChart(vegaEmbed) {\n",
       "      vegaEmbed(outputDiv, spec, embedOpt)\n",
       "        .catch(err => showError(`Javascript Error: ${err.message}<br>This usually means there's a typo in your chart specification. See the javascript console for the full traceback.`));\n",
       "    }\n",
       "\n",
       "    if(typeof define === \"function\" && define.amd) {\n",
       "      requirejs.config({paths});\n",
       "      require([\"vega-embed\"], displayChart, err => showError(`Error loading script: ${err.message}`));\n",
       "    } else {\n",
       "      maybeLoadScript(\"vega\", \"5\")\n",
       "        .then(() => maybeLoadScript(\"vega-lite\", \"4.17.0\"))\n",
       "        .then(() => maybeLoadScript(\"vega-embed\", \"6\"))\n",
       "        .catch(showError)\n",
       "        .then(() => displayChart(vegaEmbed));\n",
       "    }\n",
       "  })({\"config\": {\"view\": {\"continuousWidth\": 400, \"continuousHeight\": 300}}, \"vconcat\": [{\"data\": {\"url\": \"altair-data-28b879b038283251a3035e185b77b4c5.json\", \"format\": {\"type\": \"json\"}}, \"mark\": \"bar\", \"encoding\": {\"color\": {\"field\": \"EnergyGrade\", \"type\": \"ordinal\"}, \"x\": {\"aggregate\": \"count\", \"axis\": {\"format\": \".0%\"}, \"stack\": \"normalize\", \"type\": \"quantitative\"}}}, {\"data\": {\"url\": \"altair-data-549e114e77d9823d1ce7af414d26aa29.json\", \"format\": {\"type\": \"json\"}}, \"mark\": \"bar\", \"encoding\": {\"color\": {\"field\": \"EnergyGrade\", \"type\": \"ordinal\"}, \"x\": {\"aggregate\": \"count\", \"axis\": {\"format\": \".0%\"}, \"stack\": \"normalize\", \"type\": \"quantitative\"}}}], \"$schema\": \"https://vega.github.io/schema/vega-lite/v4.17.0.json\"}, {\"mode\": \"vega-lite\"});\n",
       "</script>"
      ],
      "text/plain": [
       "alt.VConcatChart(...)"
      ]
     },
     "execution_count": 33,
     "metadata": {},
     "output_type": "execute_result"
    }
   ],
   "source": [
    "chart2020 = alt.Chart(energyData2020).mark_bar().encode(\n",
    "    color=alt.Color('EnergyGrade:O'),\n",
    "    x=alt.X('count():Q', stack='normalize', axis=alt.Axis(format='.0%'))\n",
    ")\n",
    "chart2021 = alt.Chart(energyData2021).mark_bar().encode(\n",
    "    color=alt.Color('EnergyGrade:O'),\n",
    "    x=alt.X('count():Q', stack='normalize', axis=alt.Axis(format='.0%'))\n",
    ")\n",
    "alt.vconcat(chart2020, chart2021)"
   ]
  },
  {
   "cell_type": "code",
   "execution_count": 34,
   "metadata": {},
   "outputs": [
    {
     "data": {
      "text/html": [
       "\n",
       "<div id=\"altair-viz-e0a882f2acaa488ba0cc1421719c46c8\"></div>\n",
       "<script type=\"text/javascript\">\n",
       "  var VEGA_DEBUG = (typeof VEGA_DEBUG == \"undefined\") ? {} : VEGA_DEBUG;\n",
       "  (function(spec, embedOpt){\n",
       "    let outputDiv = document.currentScript.previousElementSibling;\n",
       "    if (outputDiv.id !== \"altair-viz-e0a882f2acaa488ba0cc1421719c46c8\") {\n",
       "      outputDiv = document.getElementById(\"altair-viz-e0a882f2acaa488ba0cc1421719c46c8\");\n",
       "    }\n",
       "    const paths = {\n",
       "      \"vega\": \"https://cdn.jsdelivr.net/npm//vega@5?noext\",\n",
       "      \"vega-lib\": \"https://cdn.jsdelivr.net/npm//vega-lib?noext\",\n",
       "      \"vega-lite\": \"https://cdn.jsdelivr.net/npm//vega-lite@4.17.0?noext\",\n",
       "      \"vega-embed\": \"https://cdn.jsdelivr.net/npm//vega-embed@6?noext\",\n",
       "    };\n",
       "\n",
       "    function maybeLoadScript(lib, version) {\n",
       "      var key = `${lib.replace(\"-\", \"\")}_version`;\n",
       "      return (VEGA_DEBUG[key] == version) ?\n",
       "        Promise.resolve(paths[lib]) :\n",
       "        new Promise(function(resolve, reject) {\n",
       "          var s = document.createElement('script');\n",
       "          document.getElementsByTagName(\"head\")[0].appendChild(s);\n",
       "          s.async = true;\n",
       "          s.onload = () => {\n",
       "            VEGA_DEBUG[key] = version;\n",
       "            return resolve(paths[lib]);\n",
       "          };\n",
       "          s.onerror = () => reject(`Error loading script: ${paths[lib]}`);\n",
       "          s.src = paths[lib];\n",
       "        });\n",
       "    }\n",
       "\n",
       "    function showError(err) {\n",
       "      outputDiv.innerHTML = `<div class=\"error\" style=\"color:red;\">${err}</div>`;\n",
       "      throw err;\n",
       "    }\n",
       "\n",
       "    function displayChart(vegaEmbed) {\n",
       "      vegaEmbed(outputDiv, spec, embedOpt)\n",
       "        .catch(err => showError(`Javascript Error: ${err.message}<br>This usually means there's a typo in your chart specification. See the javascript console for the full traceback.`));\n",
       "    }\n",
       "\n",
       "    if(typeof define === \"function\" && define.amd) {\n",
       "      requirejs.config({paths});\n",
       "      require([\"vega-embed\"], displayChart, err => showError(`Error loading script: ${err.message}`));\n",
       "    } else {\n",
       "      maybeLoadScript(\"vega\", \"5\")\n",
       "        .then(() => maybeLoadScript(\"vega-lite\", \"4.17.0\"))\n",
       "        .then(() => maybeLoadScript(\"vega-embed\", \"6\"))\n",
       "        .catch(showError)\n",
       "        .then(() => displayChart(vegaEmbed));\n",
       "    }\n",
       "  })({\"config\": {\"view\": {\"continuousWidth\": 400, \"continuousHeight\": 300}}, \"data\": {\"url\": \"altair-data-28b879b038283251a3035e185b77b4c5.json\", \"format\": {\"type\": \"json\"}}, \"mark\": \"point\", \"encoding\": {\"color\": {\"field\": \"EnergyGrade\", \"type\": \"nominal\"}, \"x\": {\"field\": \"EnergyScore\", \"type\": \"quantitative\"}, \"y\": {\"field\": \"GrossSF\", \"type\": \"quantitative\"}}, \"$schema\": \"https://vega.github.io/schema/vega-lite/v4.17.0.json\"}, {\"mode\": \"vega-lite\"});\n",
       "</script>"
      ],
      "text/plain": [
       "alt.Chart(...)"
      ]
     },
     "execution_count": 34,
     "metadata": {},
     "output_type": "execute_result"
    }
   ],
   "source": [
    "alt.Chart(energyData2020).mark_point().encode(\n",
    "    color=alt.Color('EnergyGrade:N'),\n",
    "    x=alt.X('EnergyScore:Q'),\n",
    "    y=alt.Y('GrossSF:Q')\n",
    ")"
   ]
  },
  {
   "cell_type": "code",
   "execution_count": 35,
   "metadata": {},
   "outputs": [
    {
     "data": {
      "text/plain": [
       "count    1.951300e+04\n",
       "mean     1.168086e+05\n",
       "std      2.759876e+05\n",
       "min      0.000000e+00\n",
       "25%      4.057300e+04\n",
       "50%      6.280500e+04\n",
       "75%      1.139690e+05\n",
       "max      1.709504e+07\n",
       "Name: GrossSF, dtype: float64"
      ]
     },
     "execution_count": 35,
     "metadata": {},
     "output_type": "execute_result"
    }
   ],
   "source": [
    "energyData2020['GrossSF'].describe()"
   ]
  },
  {
   "cell_type": "code",
   "execution_count": 36,
   "metadata": {},
   "outputs": [
    {
     "data": {
      "text/html": [
       "\n",
       "<div id=\"altair-viz-633efd2a99d94035a652036c890ad524\"></div>\n",
       "<script type=\"text/javascript\">\n",
       "  var VEGA_DEBUG = (typeof VEGA_DEBUG == \"undefined\") ? {} : VEGA_DEBUG;\n",
       "  (function(spec, embedOpt){\n",
       "    let outputDiv = document.currentScript.previousElementSibling;\n",
       "    if (outputDiv.id !== \"altair-viz-633efd2a99d94035a652036c890ad524\") {\n",
       "      outputDiv = document.getElementById(\"altair-viz-633efd2a99d94035a652036c890ad524\");\n",
       "    }\n",
       "    const paths = {\n",
       "      \"vega\": \"https://cdn.jsdelivr.net/npm//vega@5?noext\",\n",
       "      \"vega-lib\": \"https://cdn.jsdelivr.net/npm//vega-lib?noext\",\n",
       "      \"vega-lite\": \"https://cdn.jsdelivr.net/npm//vega-lite@4.17.0?noext\",\n",
       "      \"vega-embed\": \"https://cdn.jsdelivr.net/npm//vega-embed@6?noext\",\n",
       "    };\n",
       "\n",
       "    function maybeLoadScript(lib, version) {\n",
       "      var key = `${lib.replace(\"-\", \"\")}_version`;\n",
       "      return (VEGA_DEBUG[key] == version) ?\n",
       "        Promise.resolve(paths[lib]) :\n",
       "        new Promise(function(resolve, reject) {\n",
       "          var s = document.createElement('script');\n",
       "          document.getElementsByTagName(\"head\")[0].appendChild(s);\n",
       "          s.async = true;\n",
       "          s.onload = () => {\n",
       "            VEGA_DEBUG[key] = version;\n",
       "            return resolve(paths[lib]);\n",
       "          };\n",
       "          s.onerror = () => reject(`Error loading script: ${paths[lib]}`);\n",
       "          s.src = paths[lib];\n",
       "        });\n",
       "    }\n",
       "\n",
       "    function showError(err) {\n",
       "      outputDiv.innerHTML = `<div class=\"error\" style=\"color:red;\">${err}</div>`;\n",
       "      throw err;\n",
       "    }\n",
       "\n",
       "    function displayChart(vegaEmbed) {\n",
       "      vegaEmbed(outputDiv, spec, embedOpt)\n",
       "        .catch(err => showError(`Javascript Error: ${err.message}<br>This usually means there's a typo in your chart specification. See the javascript console for the full traceback.`));\n",
       "    }\n",
       "\n",
       "    if(typeof define === \"function\" && define.amd) {\n",
       "      requirejs.config({paths});\n",
       "      require([\"vega-embed\"], displayChart, err => showError(`Error loading script: ${err.message}`));\n",
       "    } else {\n",
       "      maybeLoadScript(\"vega\", \"5\")\n",
       "        .then(() => maybeLoadScript(\"vega-lite\", \"4.17.0\"))\n",
       "        .then(() => maybeLoadScript(\"vega-embed\", \"6\"))\n",
       "        .catch(showError)\n",
       "        .then(() => displayChart(vegaEmbed));\n",
       "    }\n",
       "  })({\"config\": {\"view\": {\"continuousWidth\": 400, \"continuousHeight\": 300}}, \"data\": {\"url\": \"altair-data-903c24fa97da1d8a4bfa2842f710db81.json\", \"format\": {\"type\": \"json\"}}, \"mark\": \"point\", \"encoding\": {\"color\": {\"field\": \"EnergyGrade\", \"type\": \"ordinal\"}, \"x\": {\"field\": \"EnergyScore\", \"type\": \"quantitative\"}, \"y\": {\"field\": \"GrossSF\", \"scale\": {\"base\": 10, \"type\": \"log\"}, \"type\": \"quantitative\"}}, \"$schema\": \"https://vega.github.io/schema/vega-lite/v4.17.0.json\"}, {\"mode\": \"vega-lite\"});\n",
       "</script>"
      ],
      "text/plain": [
       "alt.Chart(...)"
      ]
     },
     "execution_count": 36,
     "metadata": {},
     "output_type": "execute_result"
    }
   ],
   "source": [
    "alt.Chart(energyData2020[energyData2020['GrossSF'] > 0]).mark_point().encode(\n",
    "    color=alt.Color('EnergyGrade:O'),\n",
    "    x=alt.X('EnergyScore:Q'),\n",
    "    y=alt.Y('GrossSF:Q', scale=alt.Scale(type='log', base=10))\n",
    ")"
   ]
  },
  {
   "cell_type": "code",
   "execution_count": 37,
   "metadata": {},
   "outputs": [
    {
     "data": {
      "text/html": [
       "\n",
       "<div id=\"altair-viz-4656beeab6c84a878c25c88e2f81901e\"></div>\n",
       "<script type=\"text/javascript\">\n",
       "  var VEGA_DEBUG = (typeof VEGA_DEBUG == \"undefined\") ? {} : VEGA_DEBUG;\n",
       "  (function(spec, embedOpt){\n",
       "    let outputDiv = document.currentScript.previousElementSibling;\n",
       "    if (outputDiv.id !== \"altair-viz-4656beeab6c84a878c25c88e2f81901e\") {\n",
       "      outputDiv = document.getElementById(\"altair-viz-4656beeab6c84a878c25c88e2f81901e\");\n",
       "    }\n",
       "    const paths = {\n",
       "      \"vega\": \"https://cdn.jsdelivr.net/npm//vega@5?noext\",\n",
       "      \"vega-lib\": \"https://cdn.jsdelivr.net/npm//vega-lib?noext\",\n",
       "      \"vega-lite\": \"https://cdn.jsdelivr.net/npm//vega-lite@4.17.0?noext\",\n",
       "      \"vega-embed\": \"https://cdn.jsdelivr.net/npm//vega-embed@6?noext\",\n",
       "    };\n",
       "\n",
       "    function maybeLoadScript(lib, version) {\n",
       "      var key = `${lib.replace(\"-\", \"\")}_version`;\n",
       "      return (VEGA_DEBUG[key] == version) ?\n",
       "        Promise.resolve(paths[lib]) :\n",
       "        new Promise(function(resolve, reject) {\n",
       "          var s = document.createElement('script');\n",
       "          document.getElementsByTagName(\"head\")[0].appendChild(s);\n",
       "          s.async = true;\n",
       "          s.onload = () => {\n",
       "            VEGA_DEBUG[key] = version;\n",
       "            return resolve(paths[lib]);\n",
       "          };\n",
       "          s.onerror = () => reject(`Error loading script: ${paths[lib]}`);\n",
       "          s.src = paths[lib];\n",
       "        });\n",
       "    }\n",
       "\n",
       "    function showError(err) {\n",
       "      outputDiv.innerHTML = `<div class=\"error\" style=\"color:red;\">${err}</div>`;\n",
       "      throw err;\n",
       "    }\n",
       "\n",
       "    function displayChart(vegaEmbed) {\n",
       "      vegaEmbed(outputDiv, spec, embedOpt)\n",
       "        .catch(err => showError(`Javascript Error: ${err.message}<br>This usually means there's a typo in your chart specification. See the javascript console for the full traceback.`));\n",
       "    }\n",
       "\n",
       "    if(typeof define === \"function\" && define.amd) {\n",
       "      requirejs.config({paths});\n",
       "      require([\"vega-embed\"], displayChart, err => showError(`Error loading script: ${err.message}`));\n",
       "    } else {\n",
       "      maybeLoadScript(\"vega\", \"5\")\n",
       "        .then(() => maybeLoadScript(\"vega-lite\", \"4.17.0\"))\n",
       "        .then(() => maybeLoadScript(\"vega-embed\", \"6\"))\n",
       "        .catch(showError)\n",
       "        .then(() => displayChart(vegaEmbed));\n",
       "    }\n",
       "  })({\"config\": {\"view\": {\"continuousWidth\": 400, \"continuousHeight\": 300}}, \"vconcat\": [{\"data\": {\"url\": \"altair-data-28b879b038283251a3035e185b77b4c5.json\", \"format\": {\"type\": \"json\"}}, \"mark\": \"boxplot\", \"encoding\": {\"x\": {\"field\": \"EnergyScore\", \"type\": \"quantitative\"}}}, {\"data\": {\"url\": \"altair-data-549e114e77d9823d1ce7af414d26aa29.json\", \"format\": {\"type\": \"json\"}}, \"mark\": \"boxplot\", \"encoding\": {\"x\": {\"field\": \"EnergyScore\", \"type\": \"quantitative\"}}}], \"$schema\": \"https://vega.github.io/schema/vega-lite/v4.17.0.json\"}, {\"mode\": \"vega-lite\"});\n",
       "</script>"
      ],
      "text/plain": [
       "alt.VConcatChart(...)"
      ]
     },
     "execution_count": 37,
     "metadata": {},
     "output_type": "execute_result"
    }
   ],
   "source": [
    "chart2020 = alt.Chart(energyData2020).mark_boxplot().encode(\n",
    "    x=alt.X('EnergyScore:Q')\n",
    ")\n",
    "chart2021 = alt.Chart(energyData2021).mark_boxplot().encode(\n",
    "    x=alt.X('EnergyScore:Q')\n",
    ")\n",
    "alt.vconcat(chart2020, chart2021)\n",
    "\n",
    "# Ignore outliers by setting the `extent='min-max'` in the main property"
   ]
  },
  {
   "cell_type": "markdown",
   "metadata": {},
   "source": [
    "## Grouping By"
   ]
  },
  {
   "cell_type": "code",
   "execution_count": 38,
   "metadata": {},
   "outputs": [],
   "source": [
    "boroughs2020 = energyData2020[['Boro','EnergyScore']].groupby('Boro').agg(['count','max','min','mean','median','std']).reset_index().droplevel(0, axis=1)\n",
    "boroughs2020.rename(columns={'':'Borough'},inplace=True)"
   ]
  },
  {
   "cell_type": "markdown",
   "metadata": {},
   "source": [
    "Possible aggregation functions are\n",
    "\n",
    "* count() – Number of non-null observations\n",
    "* sum() – Sum of values\n",
    "* mean() – Mean of values\n",
    "* median() – Arithmetic median of values\n",
    "* min() – Minimum\n",
    "* max() – Maximum\n",
    "* mode() – Mode\n",
    "* std() – Standard deviation\n",
    "* var() – Variance"
   ]
  },
  {
   "cell_type": "code",
   "execution_count": 39,
   "metadata": {},
   "outputs": [
    {
     "data": {
      "text/html": [
       "<div>\n",
       "<style scoped>\n",
       "    .dataframe tbody tr th:only-of-type {\n",
       "        vertical-align: middle;\n",
       "    }\n",
       "\n",
       "    .dataframe tbody tr th {\n",
       "        vertical-align: top;\n",
       "    }\n",
       "\n",
       "    .dataframe thead th {\n",
       "        text-align: right;\n",
       "    }\n",
       "</style>\n",
       "<table border=\"1\" class=\"dataframe\">\n",
       "  <thead>\n",
       "    <tr style=\"text-align: right;\">\n",
       "      <th></th>\n",
       "      <th>Borough</th>\n",
       "      <th>count</th>\n",
       "      <th>max</th>\n",
       "      <th>min</th>\n",
       "      <th>mean</th>\n",
       "      <th>median</th>\n",
       "      <th>std</th>\n",
       "    </tr>\n",
       "  </thead>\n",
       "  <tbody>\n",
       "    <tr>\n",
       "      <th>0</th>\n",
       "      <td>1</td>\n",
       "      <td>7268</td>\n",
       "      <td>100</td>\n",
       "      <td>1</td>\n",
       "      <td>53.967529</td>\n",
       "      <td>58.0</td>\n",
       "      <td>29.005787</td>\n",
       "    </tr>\n",
       "    <tr>\n",
       "      <th>1</th>\n",
       "      <td>2</td>\n",
       "      <td>3941</td>\n",
       "      <td>100</td>\n",
       "      <td>1</td>\n",
       "      <td>51.065466</td>\n",
       "      <td>51.0</td>\n",
       "      <td>29.195878</td>\n",
       "    </tr>\n",
       "    <tr>\n",
       "      <th>2</th>\n",
       "      <td>3</td>\n",
       "      <td>4794</td>\n",
       "      <td>100</td>\n",
       "      <td>1</td>\n",
       "      <td>56.171882</td>\n",
       "      <td>59.0</td>\n",
       "      <td>28.221008</td>\n",
       "    </tr>\n",
       "    <tr>\n",
       "      <th>3</th>\n",
       "      <td>4</td>\n",
       "      <td>3236</td>\n",
       "      <td>100</td>\n",
       "      <td>1</td>\n",
       "      <td>56.257108</td>\n",
       "      <td>59.0</td>\n",
       "      <td>27.986805</td>\n",
       "    </tr>\n",
       "    <tr>\n",
       "      <th>4</th>\n",
       "      <td>5</td>\n",
       "      <td>274</td>\n",
       "      <td>100</td>\n",
       "      <td>1</td>\n",
       "      <td>60.602190</td>\n",
       "      <td>64.0</td>\n",
       "      <td>27.060618</td>\n",
       "    </tr>\n",
       "  </tbody>\n",
       "</table>\n",
       "</div>"
      ],
      "text/plain": [
       "   Borough  count  max  min       mean  median        std\n",
       "0        1   7268  100    1  53.967529    58.0  29.005787\n",
       "1        2   3941  100    1  51.065466    51.0  29.195878\n",
       "2        3   4794  100    1  56.171882    59.0  28.221008\n",
       "3        4   3236  100    1  56.257108    59.0  27.986805\n",
       "4        5    274  100    1  60.602190    64.0  27.060618"
      ]
     },
     "execution_count": 39,
     "metadata": {},
     "output_type": "execute_result"
    }
   ],
   "source": [
    "boroughs2020.head()"
   ]
  },
  {
   "cell_type": "code",
   "execution_count": 40,
   "metadata": {},
   "outputs": [],
   "source": [
    "boroughs2021 = energyData2021[['Boro','EnergyScore']].groupby('Boro').agg(['count','max','min','mean','median','std']).reset_index().droplevel(0, axis=1)\n",
    "boroughs2021.rename(columns={'':'Borough'},inplace=True)"
   ]
  },
  {
   "cell_type": "code",
   "execution_count": 41,
   "metadata": {},
   "outputs": [
    {
     "data": {
      "text/html": [
       "<div>\n",
       "<style scoped>\n",
       "    .dataframe tbody tr th:only-of-type {\n",
       "        vertical-align: middle;\n",
       "    }\n",
       "\n",
       "    .dataframe tbody tr th {\n",
       "        vertical-align: top;\n",
       "    }\n",
       "\n",
       "    .dataframe thead th {\n",
       "        text-align: right;\n",
       "    }\n",
       "</style>\n",
       "<table border=\"1\" class=\"dataframe\">\n",
       "  <thead>\n",
       "    <tr style=\"text-align: right;\">\n",
       "      <th></th>\n",
       "      <th>Borough</th>\n",
       "      <th>count</th>\n",
       "      <th>max</th>\n",
       "      <th>min</th>\n",
       "      <th>mean</th>\n",
       "      <th>median</th>\n",
       "      <th>std</th>\n",
       "    </tr>\n",
       "  </thead>\n",
       "  <tbody>\n",
       "    <tr>\n",
       "      <th>0</th>\n",
       "      <td>1</td>\n",
       "      <td>7201</td>\n",
       "      <td>100.0</td>\n",
       "      <td>1.0</td>\n",
       "      <td>60.210943</td>\n",
       "      <td>66.0</td>\n",
       "      <td>28.641987</td>\n",
       "    </tr>\n",
       "    <tr>\n",
       "      <th>1</th>\n",
       "      <td>2</td>\n",
       "      <td>3729</td>\n",
       "      <td>100.0</td>\n",
       "      <td>1.0</td>\n",
       "      <td>50.893001</td>\n",
       "      <td>51.0</td>\n",
       "      <td>29.637601</td>\n",
       "    </tr>\n",
       "    <tr>\n",
       "      <th>2</th>\n",
       "      <td>3</td>\n",
       "      <td>4441</td>\n",
       "      <td>100.0</td>\n",
       "      <td>1.0</td>\n",
       "      <td>57.124296</td>\n",
       "      <td>60.0</td>\n",
       "      <td>28.644377</td>\n",
       "    </tr>\n",
       "    <tr>\n",
       "      <th>3</th>\n",
       "      <td>4</td>\n",
       "      <td>2945</td>\n",
       "      <td>100.0</td>\n",
       "      <td>1.0</td>\n",
       "      <td>58.315110</td>\n",
       "      <td>61.0</td>\n",
       "      <td>27.873194</td>\n",
       "    </tr>\n",
       "    <tr>\n",
       "      <th>4</th>\n",
       "      <td>5</td>\n",
       "      <td>186</td>\n",
       "      <td>100.0</td>\n",
       "      <td>2.0</td>\n",
       "      <td>59.069892</td>\n",
       "      <td>63.0</td>\n",
       "      <td>28.043797</td>\n",
       "    </tr>\n",
       "  </tbody>\n",
       "</table>\n",
       "</div>"
      ],
      "text/plain": [
       "   Borough  count    max  min       mean  median        std\n",
       "0        1   7201  100.0  1.0  60.210943    66.0  28.641987\n",
       "1        2   3729  100.0  1.0  50.893001    51.0  29.637601\n",
       "2        3   4441  100.0  1.0  57.124296    60.0  28.644377\n",
       "3        4   2945  100.0  1.0  58.315110    61.0  27.873194\n",
       "4        5    186  100.0  2.0  59.069892    63.0  28.043797"
      ]
     },
     "execution_count": 41,
     "metadata": {},
     "output_type": "execute_result"
    }
   ],
   "source": [
    "boroughs2021.head()"
   ]
  },
  {
   "cell_type": "markdown",
   "metadata": {},
   "source": [
    "Manhattan really increased the score\n",
    "    1 = Manhattan\n",
    "    2 = Bronx\n",
    "    3 = Brooklyn\n",
    "    4 = Queens\n",
    "    5 = Staten Island"
   ]
  },
  {
   "cell_type": "code",
   "execution_count": 42,
   "metadata": {},
   "outputs": [],
   "source": [
    "boroughs2020['year'] = 2020\n",
    "boroughs2021['year'] = 2021\n",
    "boroughs = pd.concat([boroughs2020, boroughs2021])"
   ]
  },
  {
   "cell_type": "code",
   "execution_count": 43,
   "metadata": {},
   "outputs": [
    {
     "data": {
      "text/html": [
       "<div>\n",
       "<style scoped>\n",
       "    .dataframe tbody tr th:only-of-type {\n",
       "        vertical-align: middle;\n",
       "    }\n",
       "\n",
       "    .dataframe tbody tr th {\n",
       "        vertical-align: top;\n",
       "    }\n",
       "\n",
       "    .dataframe thead th {\n",
       "        text-align: right;\n",
       "    }\n",
       "</style>\n",
       "<table border=\"1\" class=\"dataframe\">\n",
       "  <thead>\n",
       "    <tr style=\"text-align: right;\">\n",
       "      <th></th>\n",
       "      <th>Borough</th>\n",
       "      <th>count</th>\n",
       "      <th>max</th>\n",
       "      <th>min</th>\n",
       "      <th>mean</th>\n",
       "      <th>median</th>\n",
       "      <th>std</th>\n",
       "      <th>year</th>\n",
       "    </tr>\n",
       "  </thead>\n",
       "  <tbody>\n",
       "    <tr>\n",
       "      <th>0</th>\n",
       "      <td>1</td>\n",
       "      <td>7268</td>\n",
       "      <td>100.0</td>\n",
       "      <td>1.0</td>\n",
       "      <td>53.967529</td>\n",
       "      <td>58.0</td>\n",
       "      <td>29.005787</td>\n",
       "      <td>2020</td>\n",
       "    </tr>\n",
       "    <tr>\n",
       "      <th>1</th>\n",
       "      <td>2</td>\n",
       "      <td>3941</td>\n",
       "      <td>100.0</td>\n",
       "      <td>1.0</td>\n",
       "      <td>51.065466</td>\n",
       "      <td>51.0</td>\n",
       "      <td>29.195878</td>\n",
       "      <td>2020</td>\n",
       "    </tr>\n",
       "    <tr>\n",
       "      <th>2</th>\n",
       "      <td>3</td>\n",
       "      <td>4794</td>\n",
       "      <td>100.0</td>\n",
       "      <td>1.0</td>\n",
       "      <td>56.171882</td>\n",
       "      <td>59.0</td>\n",
       "      <td>28.221008</td>\n",
       "      <td>2020</td>\n",
       "    </tr>\n",
       "    <tr>\n",
       "      <th>3</th>\n",
       "      <td>4</td>\n",
       "      <td>3236</td>\n",
       "      <td>100.0</td>\n",
       "      <td>1.0</td>\n",
       "      <td>56.257108</td>\n",
       "      <td>59.0</td>\n",
       "      <td>27.986805</td>\n",
       "      <td>2020</td>\n",
       "    </tr>\n",
       "    <tr>\n",
       "      <th>4</th>\n",
       "      <td>5</td>\n",
       "      <td>274</td>\n",
       "      <td>100.0</td>\n",
       "      <td>1.0</td>\n",
       "      <td>60.602190</td>\n",
       "      <td>64.0</td>\n",
       "      <td>27.060618</td>\n",
       "      <td>2020</td>\n",
       "    </tr>\n",
       "    <tr>\n",
       "      <th>0</th>\n",
       "      <td>1</td>\n",
       "      <td>7201</td>\n",
       "      <td>100.0</td>\n",
       "      <td>1.0</td>\n",
       "      <td>60.210943</td>\n",
       "      <td>66.0</td>\n",
       "      <td>28.641987</td>\n",
       "      <td>2021</td>\n",
       "    </tr>\n",
       "    <tr>\n",
       "      <th>1</th>\n",
       "      <td>2</td>\n",
       "      <td>3729</td>\n",
       "      <td>100.0</td>\n",
       "      <td>1.0</td>\n",
       "      <td>50.893001</td>\n",
       "      <td>51.0</td>\n",
       "      <td>29.637601</td>\n",
       "      <td>2021</td>\n",
       "    </tr>\n",
       "    <tr>\n",
       "      <th>2</th>\n",
       "      <td>3</td>\n",
       "      <td>4441</td>\n",
       "      <td>100.0</td>\n",
       "      <td>1.0</td>\n",
       "      <td>57.124296</td>\n",
       "      <td>60.0</td>\n",
       "      <td>28.644377</td>\n",
       "      <td>2021</td>\n",
       "    </tr>\n",
       "    <tr>\n",
       "      <th>3</th>\n",
       "      <td>4</td>\n",
       "      <td>2945</td>\n",
       "      <td>100.0</td>\n",
       "      <td>1.0</td>\n",
       "      <td>58.315110</td>\n",
       "      <td>61.0</td>\n",
       "      <td>27.873194</td>\n",
       "      <td>2021</td>\n",
       "    </tr>\n",
       "    <tr>\n",
       "      <th>4</th>\n",
       "      <td>5</td>\n",
       "      <td>186</td>\n",
       "      <td>100.0</td>\n",
       "      <td>2.0</td>\n",
       "      <td>59.069892</td>\n",
       "      <td>63.0</td>\n",
       "      <td>28.043797</td>\n",
       "      <td>2021</td>\n",
       "    </tr>\n",
       "  </tbody>\n",
       "</table>\n",
       "</div>"
      ],
      "text/plain": [
       "   Borough  count    max  min       mean  median        std  year\n",
       "0        1   7268  100.0  1.0  53.967529    58.0  29.005787  2020\n",
       "1        2   3941  100.0  1.0  51.065466    51.0  29.195878  2020\n",
       "2        3   4794  100.0  1.0  56.171882    59.0  28.221008  2020\n",
       "3        4   3236  100.0  1.0  56.257108    59.0  27.986805  2020\n",
       "4        5    274  100.0  1.0  60.602190    64.0  27.060618  2020\n",
       "0        1   7201  100.0  1.0  60.210943    66.0  28.641987  2021\n",
       "1        2   3729  100.0  1.0  50.893001    51.0  29.637601  2021\n",
       "2        3   4441  100.0  1.0  57.124296    60.0  28.644377  2021\n",
       "3        4   2945  100.0  1.0  58.315110    61.0  27.873194  2021\n",
       "4        5    186  100.0  2.0  59.069892    63.0  28.043797  2021"
      ]
     },
     "execution_count": 43,
     "metadata": {},
     "output_type": "execute_result"
    }
   ],
   "source": [
    "boroughs"
   ]
  },
  {
   "cell_type": "code",
   "execution_count": 44,
   "metadata": {},
   "outputs": [
    {
     "data": {
      "text/html": [
       "\n",
       "<div id=\"altair-viz-f2cd125a6cfc4b1698caa5ab521b6ac8\"></div>\n",
       "<script type=\"text/javascript\">\n",
       "  var VEGA_DEBUG = (typeof VEGA_DEBUG == \"undefined\") ? {} : VEGA_DEBUG;\n",
       "  (function(spec, embedOpt){\n",
       "    let outputDiv = document.currentScript.previousElementSibling;\n",
       "    if (outputDiv.id !== \"altair-viz-f2cd125a6cfc4b1698caa5ab521b6ac8\") {\n",
       "      outputDiv = document.getElementById(\"altair-viz-f2cd125a6cfc4b1698caa5ab521b6ac8\");\n",
       "    }\n",
       "    const paths = {\n",
       "      \"vega\": \"https://cdn.jsdelivr.net/npm//vega@5?noext\",\n",
       "      \"vega-lib\": \"https://cdn.jsdelivr.net/npm//vega-lib?noext\",\n",
       "      \"vega-lite\": \"https://cdn.jsdelivr.net/npm//vega-lite@4.17.0?noext\",\n",
       "      \"vega-embed\": \"https://cdn.jsdelivr.net/npm//vega-embed@6?noext\",\n",
       "    };\n",
       "\n",
       "    function maybeLoadScript(lib, version) {\n",
       "      var key = `${lib.replace(\"-\", \"\")}_version`;\n",
       "      return (VEGA_DEBUG[key] == version) ?\n",
       "        Promise.resolve(paths[lib]) :\n",
       "        new Promise(function(resolve, reject) {\n",
       "          var s = document.createElement('script');\n",
       "          document.getElementsByTagName(\"head\")[0].appendChild(s);\n",
       "          s.async = true;\n",
       "          s.onload = () => {\n",
       "            VEGA_DEBUG[key] = version;\n",
       "            return resolve(paths[lib]);\n",
       "          };\n",
       "          s.onerror = () => reject(`Error loading script: ${paths[lib]}`);\n",
       "          s.src = paths[lib];\n",
       "        });\n",
       "    }\n",
       "\n",
       "    function showError(err) {\n",
       "      outputDiv.innerHTML = `<div class=\"error\" style=\"color:red;\">${err}</div>`;\n",
       "      throw err;\n",
       "    }\n",
       "\n",
       "    function displayChart(vegaEmbed) {\n",
       "      vegaEmbed(outputDiv, spec, embedOpt)\n",
       "        .catch(err => showError(`Javascript Error: ${err.message}<br>This usually means there's a typo in your chart specification. See the javascript console for the full traceback.`));\n",
       "    }\n",
       "\n",
       "    if(typeof define === \"function\" && define.amd) {\n",
       "      requirejs.config({paths});\n",
       "      require([\"vega-embed\"], displayChart, err => showError(`Error loading script: ${err.message}`));\n",
       "    } else {\n",
       "      maybeLoadScript(\"vega\", \"5\")\n",
       "        .then(() => maybeLoadScript(\"vega-lite\", \"4.17.0\"))\n",
       "        .then(() => maybeLoadScript(\"vega-embed\", \"6\"))\n",
       "        .catch(showError)\n",
       "        .then(() => displayChart(vegaEmbed));\n",
       "    }\n",
       "  })({\"config\": {\"view\": {\"continuousWidth\": 400, \"continuousHeight\": 300}}, \"data\": {\"url\": \"altair-data-ef14ce39bb2460f2cfb347e1e2cdcf2f.json\", \"format\": {\"type\": \"json\"}}, \"mark\": \"bar\", \"encoding\": {\"color\": {\"field\": \"year\", \"type\": \"ordinal\"}, \"row\": {\"field\": \"Borough\", \"type\": \"ordinal\"}, \"x\": {\"field\": \"mean\", \"type\": \"quantitative\"}, \"y\": {\"field\": \"year\", \"type\": \"ordinal\"}}, \"$schema\": \"https://vega.github.io/schema/vega-lite/v4.17.0.json\"}, {\"mode\": \"vega-lite\"});\n",
       "</script>"
      ],
      "text/plain": [
       "alt.Chart(...)"
      ]
     },
     "execution_count": 44,
     "metadata": {},
     "output_type": "execute_result"
    }
   ],
   "source": [
    "alt.Chart(boroughs).mark_bar().encode(\n",
    "    x=alt.X('mean:Q'),\n",
    "    y=alt.Y('year:O'),\n",
    "    color=alt.Color('year:O'),\n",
    "    row=alt.Row('Borough:O')\n",
    ")"
   ]
  },
  {
   "cell_type": "markdown",
   "metadata": {},
   "source": [
    "## Finding buildings that have improved/worsen the most"
   ]
  },
  {
   "cell_type": "code",
   "execution_count": 45,
   "metadata": {},
   "outputs": [],
   "source": [
    "buildingEnergyData = pd.merge(energyData2020, energyData2021, on='BBL', how='inner')"
   ]
  },
  {
   "cell_type": "code",
   "execution_count": null,
   "metadata": {},
   "outputs": [],
   "source": [
    "buildingEnergyData.head()"
   ]
  },
  {
   "cell_type": "code",
   "execution_count": null,
   "metadata": {},
   "outputs": [],
   "source": [
    "buildingEnergyData.columns"
   ]
  },
  {
   "cell_type": "code",
   "execution_count": 46,
   "metadata": {},
   "outputs": [],
   "source": [
    "buildingEnergyData.drop(columns=['Boro_y', 'Block_y', 'Lot_y', 'BuildingCount_y', 'GrossSF_y', 'StreetNumber_y','StreetName_y'], inplace=True)"
   ]
  },
  {
   "cell_type": "code",
   "execution_count": 47,
   "metadata": {},
   "outputs": [],
   "source": [
    "buildingEnergyData.rename(columns={'Boro_x':'Borough', 'Block_x':'Block', 'Lot_x':'Lot', 'BuildingCount_x':'BuildingCount', 'GrossSF_x':'GrossSF',\n",
    "       'StreetNumber_x':'StreetNumber', 'StreetName_x':'StreetName', 'BBL':'BBL', 'EnergyScore_x':'EnergyScore2020',\n",
    "       'EnergyGrade_x':'EnergyGrade2020', 'EnergyScore_y':'EnergyScore2021', 'EnergyGrade_y':'EnergyGrade2021'},inplace=True)"
   ]
  },
  {
   "cell_type": "code",
   "execution_count": null,
   "metadata": {},
   "outputs": [],
   "source": [
    "buildingEnergyData.head()"
   ]
  },
  {
   "cell_type": "code",
   "execution_count": 48,
   "metadata": {},
   "outputs": [],
   "source": [
    "buildingEnergyData['change'] = buildingEnergyData['EnergyScore2021'] - buildingEnergyData['EnergyScore2020']\n",
    "buildingEnergyData['perChange'] = buildingEnergyData['change'] / buildingEnergyData['EnergyScore2020']"
   ]
  },
  {
   "cell_type": "code",
   "execution_count": null,
   "metadata": {},
   "outputs": [],
   "source": [
    "buildingEnergyData.head()"
   ]
  },
  {
   "cell_type": "code",
   "execution_count": null,
   "metadata": {},
   "outputs": [],
   "source": [
    "buildingEnergyData.sort_values(by='perChange',ascending=False).head(10)"
   ]
  },
  {
   "cell_type": "code",
   "execution_count": null,
   "metadata": {},
   "outputs": [],
   "source": [
    "buildingEnergyData[buildingEnergyData['EnergyScore2020'] > 50].sort_values(by='perChange',ascending=False).head(10)"
   ]
  },
  {
   "cell_type": "markdown",
   "metadata": {},
   "source": [
    "Find info on individual buildings [here](https://a810-dobnow.nyc.gov/publish/#!/) but no documents of their submission"
   ]
  },
  {
   "cell_type": "code",
   "execution_count": null,
   "metadata": {},
   "outputs": [],
   "source": [
    "buildingEnergyData['perChange'].describe()"
   ]
  },
  {
   "cell_type": "code",
   "execution_count": null,
   "metadata": {},
   "outputs": [],
   "source": [
    "alt.Chart(buildingEnergyData).mark_boxplot().encode(\n",
    "    x=alt.X('perChange:Q')\n",
    ")"
   ]
  },
  {
   "cell_type": "code",
   "execution_count": null,
   "metadata": {},
   "outputs": [],
   "source": [
    "alt.Chart(buildingEnergyData[(buildingEnergyData['perChange'] < buildingEnergyData['perChange'].quantile(0.81)) & (buildingEnergyData['perChange'] > buildingEnergyData['perChange'].quantile(0.08))]).mark_boxplot().encode(\n",
    "    x=alt.X('perChange:Q')\n",
    ")"
   ]
  },
  {
   "cell_type": "code",
   "execution_count": null,
   "metadata": {},
   "outputs": [],
   "source": [
    "alt.Chart(buildingEnergyData[(buildingEnergyData['perChange'] < buildingEnergyData['perChange'].quantile(0.9)) & (buildingEnergyData['perChange'] > buildingEnergyData['perChange'].quantile(0.05))]).mark_boxplot().encode(\n",
    "    x=alt.X('perChange:Q'),\n",
    "    row=alt.Row('Borough:N')\n",
    ")"
   ]
  },
  {
   "cell_type": "markdown",
   "metadata": {},
   "source": [
    "## Mapping buildings"
   ]
  },
  {
   "cell_type": "code",
   "execution_count": null,
   "metadata": {},
   "outputs": [],
   "source": [
    "type(buildingEnergyData)"
   ]
  },
  {
   "cell_type": "code",
   "execution_count": null,
   "metadata": {},
   "outputs": [],
   "source": [
    "alt.Chart(buildingEnergyData).mark_geoshape().encode(\n",
    "    color=alt.Color('EnergyScore2020:Q')\n",
    ")"
   ]
  },
  {
   "cell_type": "code",
   "execution_count": 49,
   "metadata": {},
   "outputs": [],
   "source": [
    "ntaData = gpd.read_file('https://services5.arcgis.com/GfwWNkhOj9bNBqoJ/arcgis/rest/services/NYC_Neighborhood_Tabulation_Areas_2020/FeatureServer/0/query?where=1=1&outFields=*&outSR=4326&f=pgeojson')"
   ]
  },
  {
   "cell_type": "code",
   "execution_count": null,
   "metadata": {},
   "outputs": [],
   "source": [
    "ntaData.head()"
   ]
  },
  {
   "cell_type": "code",
   "execution_count": null,
   "metadata": {},
   "outputs": [],
   "source": [
    "buildingEnergyData.shape"
   ]
  },
  {
   "cell_type": "code",
   "execution_count": null,
   "metadata": {},
   "outputs": [],
   "source": [
    "buildingEnergyData.sjoin(ntaData, how='left').shape"
   ]
  },
  {
   "cell_type": "code",
   "execution_count": null,
   "metadata": {},
   "outputs": [],
   "source": [
    "buildingEnergyData[buildingEnergyData.sjoin(ntaData, how='left', predicate='within')['NTAName'].isna()]"
   ]
  },
  {
   "cell_type": "code",
   "execution_count": null,
   "metadata": {},
   "outputs": [],
   "source": [
    "buildingEnergyData.sjoin(ntaData, how='left', predicate='contains').head()"
   ]
  },
  {
   "cell_type": "code",
   "execution_count": 50,
   "metadata": {},
   "outputs": [],
   "source": [
    "buildingEnergyData.to_crs(epsg=2263, inplace=True)"
   ]
  },
  {
   "cell_type": "code",
   "execution_count": 51,
   "metadata": {},
   "outputs": [],
   "source": [
    "centroids = buildingEnergyData.centroid"
   ]
  },
  {
   "cell_type": "code",
   "execution_count": 52,
   "metadata": {},
   "outputs": [
    {
     "data": {
      "text/plain": [
       "0        POINT (980917.523 195093.462)\n",
       "1        POINT (981308.988 195134.684)\n",
       "2        POINT (980734.263 195378.599)\n",
       "3        POINT (980562.547 195314.421)\n",
       "4        POINT (980936.448 195695.557)\n",
       "                     ...              \n",
       "16788    POINT (967156.143 156137.347)\n",
       "16789    POINT (956219.411 152388.623)\n",
       "16790    POINT (954038.272 151304.564)\n",
       "16791    POINT (953264.158 144919.698)\n",
       "16792    POINT (939476.287 138144.503)\n",
       "Length: 16793, dtype: geometry"
      ]
     },
     "execution_count": 52,
     "metadata": {},
     "output_type": "execute_result"
    }
   ],
   "source": [
    "centroids"
   ]
  },
  {
   "cell_type": "code",
   "execution_count": null,
   "metadata": {},
   "outputs": [],
   "source": [
    "buildingEnergyData.head()"
   ]
  },
  {
   "cell_type": "code",
   "execution_count": 53,
   "metadata": {},
   "outputs": [],
   "source": [
    "buildingCentroids = gpd.GeoDataFrame(data=buildingEnergyData.copy(deep=True), geometry=centroids, crs='epsg:2263')"
   ]
  },
  {
   "cell_type": "code",
   "execution_count": 54,
   "metadata": {},
   "outputs": [
    {
     "data": {
      "text/html": [
       "<div>\n",
       "<style scoped>\n",
       "    .dataframe tbody tr th:only-of-type {\n",
       "        vertical-align: middle;\n",
       "    }\n",
       "\n",
       "    .dataframe tbody tr th {\n",
       "        vertical-align: top;\n",
       "    }\n",
       "\n",
       "    .dataframe thead th {\n",
       "        text-align: right;\n",
       "    }\n",
       "</style>\n",
       "<table border=\"1\" class=\"dataframe\">\n",
       "  <thead>\n",
       "    <tr style=\"text-align: right;\">\n",
       "      <th></th>\n",
       "      <th>Borough</th>\n",
       "      <th>Block</th>\n",
       "      <th>Lot</th>\n",
       "      <th>BuildingCount</th>\n",
       "      <th>GrossSF</th>\n",
       "      <th>StreetNumber</th>\n",
       "      <th>StreetName</th>\n",
       "      <th>BBL</th>\n",
       "      <th>EnergyScore2020</th>\n",
       "      <th>EnergyGrade2020</th>\n",
       "      <th>geometry</th>\n",
       "      <th>EnergyScore2021</th>\n",
       "      <th>EnergyGrade2021</th>\n",
       "      <th>change</th>\n",
       "      <th>perChange</th>\n",
       "    </tr>\n",
       "  </thead>\n",
       "  <tbody>\n",
       "    <tr>\n",
       "      <th>0</th>\n",
       "      <td>1</td>\n",
       "      <td>4</td>\n",
       "      <td>7501</td>\n",
       "      <td>1</td>\n",
       "      <td>2542563</td>\n",
       "      <td>1</td>\n",
       "      <td>WATER STREET</td>\n",
       "      <td>1000047501</td>\n",
       "      <td>61</td>\n",
       "      <td>C</td>\n",
       "      <td>POINT (980917.523 195093.462)</td>\n",
       "      <td>55.0</td>\n",
       "      <td>C</td>\n",
       "      <td>-6.0</td>\n",
       "      <td>-0.098361</td>\n",
       "    </tr>\n",
       "    <tr>\n",
       "      <th>1</th>\n",
       "      <td>1</td>\n",
       "      <td>5</td>\n",
       "      <td>7501</td>\n",
       "      <td>1</td>\n",
       "      <td>1354691</td>\n",
       "      <td>125</td>\n",
       "      <td>BROAD STREET</td>\n",
       "      <td>1000057501</td>\n",
       "      <td>76</td>\n",
       "      <td>B</td>\n",
       "      <td>POINT (981308.988 195134.684)</td>\n",
       "      <td>84.0</td>\n",
       "      <td>B</td>\n",
       "      <td>8.0</td>\n",
       "      <td>0.105263</td>\n",
       "    </tr>\n",
       "    <tr>\n",
       "      <th>2</th>\n",
       "      <td>1</td>\n",
       "      <td>8</td>\n",
       "      <td>7501</td>\n",
       "      <td>1</td>\n",
       "      <td>169061</td>\n",
       "      <td>2</td>\n",
       "      <td>WATER STREET</td>\n",
       "      <td>1000087501</td>\n",
       "      <td>13</td>\n",
       "      <td>D</td>\n",
       "      <td>POINT (980734.263 195378.599)</td>\n",
       "      <td>4.0</td>\n",
       "      <td>D</td>\n",
       "      <td>-9.0</td>\n",
       "      <td>-0.692308</td>\n",
       "    </tr>\n",
       "    <tr>\n",
       "      <th>3</th>\n",
       "      <td>1</td>\n",
       "      <td>9</td>\n",
       "      <td>1</td>\n",
       "      <td>1</td>\n",
       "      <td>692431</td>\n",
       "      <td>34</td>\n",
       "      <td>WHITEHALL STREET</td>\n",
       "      <td>1000090001</td>\n",
       "      <td>72</td>\n",
       "      <td>B</td>\n",
       "      <td>POINT (980562.547 195314.421)</td>\n",
       "      <td>83.0</td>\n",
       "      <td>B</td>\n",
       "      <td>11.0</td>\n",
       "      <td>0.152778</td>\n",
       "    </tr>\n",
       "    <tr>\n",
       "      <th>4</th>\n",
       "      <td>1</td>\n",
       "      <td>10</td>\n",
       "      <td>16</td>\n",
       "      <td>1</td>\n",
       "      <td>336025</td>\n",
       "      <td>90</td>\n",
       "      <td>BROAD STREET</td>\n",
       "      <td>1000100016</td>\n",
       "      <td>81</td>\n",
       "      <td>B</td>\n",
       "      <td>POINT (980936.448 195695.557)</td>\n",
       "      <td>81.0</td>\n",
       "      <td>B</td>\n",
       "      <td>0.0</td>\n",
       "      <td>0.000000</td>\n",
       "    </tr>\n",
       "  </tbody>\n",
       "</table>\n",
       "</div>"
      ],
      "text/plain": [
       "   Borough  Block   Lot  BuildingCount  GrossSF StreetNumber  \\\n",
       "0        1      4  7501              1  2542563            1   \n",
       "1        1      5  7501              1  1354691          125   \n",
       "2        1      8  7501              1   169061            2   \n",
       "3        1      9     1              1   692431           34   \n",
       "4        1     10    16              1   336025           90   \n",
       "\n",
       "         StreetName         BBL  EnergyScore2020 EnergyGrade2020  \\\n",
       "0      WATER STREET  1000047501               61               C   \n",
       "1      BROAD STREET  1000057501               76               B   \n",
       "2      WATER STREET  1000087501               13               D   \n",
       "3  WHITEHALL STREET  1000090001               72               B   \n",
       "4      BROAD STREET  1000100016               81               B   \n",
       "\n",
       "                        geometry  EnergyScore2021 EnergyGrade2021  change  \\\n",
       "0  POINT (980917.523 195093.462)             55.0               C    -6.0   \n",
       "1  POINT (981308.988 195134.684)             84.0               B     8.0   \n",
       "2  POINT (980734.263 195378.599)              4.0               D    -9.0   \n",
       "3  POINT (980562.547 195314.421)             83.0               B    11.0   \n",
       "4  POINT (980936.448 195695.557)             81.0               B     0.0   \n",
       "\n",
       "   perChange  \n",
       "0  -0.098361  \n",
       "1   0.105263  \n",
       "2  -0.692308  \n",
       "3   0.152778  \n",
       "4   0.000000  "
      ]
     },
     "execution_count": 54,
     "metadata": {},
     "output_type": "execute_result"
    }
   ],
   "source": [
    "buildingCentroids.head()"
   ]
  },
  {
   "cell_type": "code",
   "execution_count": 55,
   "metadata": {},
   "outputs": [
    {
     "data": {
      "text/html": [
       "<div>\n",
       "<style scoped>\n",
       "    .dataframe tbody tr th:only-of-type {\n",
       "        vertical-align: middle;\n",
       "    }\n",
       "\n",
       "    .dataframe tbody tr th {\n",
       "        vertical-align: top;\n",
       "    }\n",
       "\n",
       "    .dataframe thead th {\n",
       "        text-align: right;\n",
       "    }\n",
       "</style>\n",
       "<table border=\"1\" class=\"dataframe\">\n",
       "  <thead>\n",
       "    <tr style=\"text-align: right;\">\n",
       "      <th></th>\n",
       "      <th>Borough</th>\n",
       "      <th>Block</th>\n",
       "      <th>Lot</th>\n",
       "      <th>BuildingCount</th>\n",
       "      <th>GrossSF</th>\n",
       "      <th>StreetNumber</th>\n",
       "      <th>StreetName</th>\n",
       "      <th>BBL</th>\n",
       "      <th>EnergyScore2020</th>\n",
       "      <th>EnergyGrade2020</th>\n",
       "      <th>geometry</th>\n",
       "      <th>EnergyScore2021</th>\n",
       "      <th>EnergyGrade2021</th>\n",
       "      <th>change</th>\n",
       "      <th>perChange</th>\n",
       "    </tr>\n",
       "  </thead>\n",
       "  <tbody>\n",
       "    <tr>\n",
       "      <th>0</th>\n",
       "      <td>1</td>\n",
       "      <td>4</td>\n",
       "      <td>7501</td>\n",
       "      <td>1</td>\n",
       "      <td>2542563</td>\n",
       "      <td>1</td>\n",
       "      <td>WATER STREET</td>\n",
       "      <td>1000047501</td>\n",
       "      <td>61</td>\n",
       "      <td>C</td>\n",
       "      <td>POLYGON ((980743.918 195179.570, 980767.866 19...</td>\n",
       "      <td>55.0</td>\n",
       "      <td>C</td>\n",
       "      <td>-6.0</td>\n",
       "      <td>-0.098361</td>\n",
       "    </tr>\n",
       "    <tr>\n",
       "      <th>1</th>\n",
       "      <td>1</td>\n",
       "      <td>5</td>\n",
       "      <td>7501</td>\n",
       "      <td>1</td>\n",
       "      <td>1354691</td>\n",
       "      <td>125</td>\n",
       "      <td>BROAD STREET</td>\n",
       "      <td>1000057501</td>\n",
       "      <td>76</td>\n",
       "      <td>B</td>\n",
       "      <td>POLYGON ((981143.319 195192.427, 981444.122 19...</td>\n",
       "      <td>84.0</td>\n",
       "      <td>B</td>\n",
       "      <td>8.0</td>\n",
       "      <td>0.105263</td>\n",
       "    </tr>\n",
       "    <tr>\n",
       "      <th>2</th>\n",
       "      <td>1</td>\n",
       "      <td>8</td>\n",
       "      <td>7501</td>\n",
       "      <td>1</td>\n",
       "      <td>169061</td>\n",
       "      <td>2</td>\n",
       "      <td>WATER STREET</td>\n",
       "      <td>1000087501</td>\n",
       "      <td>13</td>\n",
       "      <td>D</td>\n",
       "      <td>POLYGON ((980706.216 195308.503, 980676.743 19...</td>\n",
       "      <td>4.0</td>\n",
       "      <td>D</td>\n",
       "      <td>-9.0</td>\n",
       "      <td>-0.692308</td>\n",
       "    </tr>\n",
       "    <tr>\n",
       "      <th>3</th>\n",
       "      <td>1</td>\n",
       "      <td>9</td>\n",
       "      <td>1</td>\n",
       "      <td>1</td>\n",
       "      <td>692431</td>\n",
       "      <td>34</td>\n",
       "      <td>WHITEHALL STREET</td>\n",
       "      <td>1000090001</td>\n",
       "      <td>72</td>\n",
       "      <td>B</td>\n",
       "      <td>POLYGON ((980485.523 195315.698, 980495.527 19...</td>\n",
       "      <td>83.0</td>\n",
       "      <td>B</td>\n",
       "      <td>11.0</td>\n",
       "      <td>0.152778</td>\n",
       "    </tr>\n",
       "    <tr>\n",
       "      <th>4</th>\n",
       "      <td>1</td>\n",
       "      <td>10</td>\n",
       "      <td>16</td>\n",
       "      <td>1</td>\n",
       "      <td>336025</td>\n",
       "      <td>90</td>\n",
       "      <td>BROAD STREET</td>\n",
       "      <td>1000100016</td>\n",
       "      <td>81</td>\n",
       "      <td>B</td>\n",
       "      <td>POLYGON ((980867.416 195630.104, 980871.694 19...</td>\n",
       "      <td>81.0</td>\n",
       "      <td>B</td>\n",
       "      <td>0.0</td>\n",
       "      <td>0.000000</td>\n",
       "    </tr>\n",
       "  </tbody>\n",
       "</table>\n",
       "</div>"
      ],
      "text/plain": [
       "   Borough  Block   Lot  BuildingCount  GrossSF StreetNumber  \\\n",
       "0        1      4  7501              1  2542563            1   \n",
       "1        1      5  7501              1  1354691          125   \n",
       "2        1      8  7501              1   169061            2   \n",
       "3        1      9     1              1   692431           34   \n",
       "4        1     10    16              1   336025           90   \n",
       "\n",
       "         StreetName         BBL  EnergyScore2020 EnergyGrade2020  \\\n",
       "0      WATER STREET  1000047501               61               C   \n",
       "1      BROAD STREET  1000057501               76               B   \n",
       "2      WATER STREET  1000087501               13               D   \n",
       "3  WHITEHALL STREET  1000090001               72               B   \n",
       "4      BROAD STREET  1000100016               81               B   \n",
       "\n",
       "                                            geometry  EnergyScore2021  \\\n",
       "0  POLYGON ((980743.918 195179.570, 980767.866 19...             55.0   \n",
       "1  POLYGON ((981143.319 195192.427, 981444.122 19...             84.0   \n",
       "2  POLYGON ((980706.216 195308.503, 980676.743 19...              4.0   \n",
       "3  POLYGON ((980485.523 195315.698, 980495.527 19...             83.0   \n",
       "4  POLYGON ((980867.416 195630.104, 980871.694 19...             81.0   \n",
       "\n",
       "  EnergyGrade2021  change  perChange  \n",
       "0               C    -6.0  -0.098361  \n",
       "1               B     8.0   0.105263  \n",
       "2               D    -9.0  -0.692308  \n",
       "3               B    11.0   0.152778  \n",
       "4               B     0.0   0.000000  "
      ]
     },
     "execution_count": 55,
     "metadata": {},
     "output_type": "execute_result"
    }
   ],
   "source": [
    "buildingEnergyData.head()"
   ]
  },
  {
   "cell_type": "code",
   "execution_count": 56,
   "metadata": {},
   "outputs": [],
   "source": [
    "buildingCentroids.to_crs(epsg=4326, inplace=True)"
   ]
  },
  {
   "cell_type": "code",
   "execution_count": null,
   "metadata": {},
   "outputs": [],
   "source": [
    "alt.Chart(buildingCentroids).mark_geoshape().encode(\n",
    "    color=alt.Color('EnergyScore2020:Q')\n",
    ")"
   ]
  },
  {
   "cell_type": "code",
   "execution_count": 57,
   "metadata": {},
   "outputs": [],
   "source": [
    "buildingCentroids = buildingCentroids.sjoin(ntaData, how='left')"
   ]
  },
  {
   "cell_type": "code",
   "execution_count": null,
   "metadata": {},
   "outputs": [],
   "source": [
    "buildingCentroids.head()"
   ]
  },
  {
   "cell_type": "code",
   "execution_count": 58,
   "metadata": {},
   "outputs": [],
   "source": [
    "buildingCentroids['weightedScore2020'] = buildingCentroids['EnergyScore2020'] * buildingCentroids['GrossSF']\n",
    "buildingCentroids['weightedScore2021'] = buildingCentroids['EnergyScore2021'] * buildingCentroids['GrossSF']"
   ]
  },
  {
   "cell_type": "code",
   "execution_count": 59,
   "metadata": {},
   "outputs": [],
   "source": [
    "ntaEnergyData = buildingCentroids.groupby('NTA2020').agg(buildingCount=('EnergyScore2020','count'),\n",
    "meanScore2020=('EnergyScore2020','mean'),\n",
    "stdScore2020=('EnergyScore2020','std'),\n",
    "sumScore2020=('EnergyScore2020','sum'),\n",
    "meanScore2021=('EnergyScore2021','mean'),\n",
    "sumScore2021=('EnergyScore2021','sum'),\n",
    "stdScore2021=('EnergyScore2021','std'),\n",
    "meanWeightedScore2020=('weightedScore2020','mean'),\n",
    "sumWeightedScore2020=('weightedScore2020','sum'),\n",
    "meanWeightedScore2021=('weightedScore2021','mean'),\n",
    "sumWeightedScore2021=('weightedScore2021','sum'),\n",
    "meanGrossSF=('GrossSF','mean'),\n",
    "sumGrossSF=('GrossSF','sum')).reset_index()"
   ]
  },
  {
   "cell_type": "code",
   "execution_count": null,
   "metadata": {},
   "outputs": [],
   "source": [
    "ntaEnergyData.head()"
   ]
  },
  {
   "cell_type": "code",
   "execution_count": 60,
   "metadata": {},
   "outputs": [],
   "source": [
    "ntaEnergyData['meanScoreSF2020'] = ntaEnergyData['sumWeightedScore2020'] / ntaEnergyData['sumGrossSF']\n",
    "ntaEnergyData['meanScoreSF2021'] = ntaEnergyData['sumWeightedScore2021'] / ntaEnergyData['sumGrossSF']"
   ]
  },
  {
   "cell_type": "code",
   "execution_count": null,
   "metadata": {},
   "outputs": [],
   "source": [
    "ntaEnergyData.head()"
   ]
  },
  {
   "cell_type": "code",
   "execution_count": null,
   "metadata": {},
   "outputs": [],
   "source": [
    "ntaEnergyData['meanScoreSF2020'].describe()"
   ]
  },
  {
   "cell_type": "code",
   "execution_count": 61,
   "metadata": {},
   "outputs": [],
   "source": [
    "ntaData = ntaData.merge(ntaEnergyData, on='NTA2020', how='left')"
   ]
  },
  {
   "cell_type": "code",
   "execution_count": 69,
   "metadata": {},
   "outputs": [
    {
     "data": {
      "text/html": [
       "\n",
       "<div id=\"altair-viz-6256b8c0778e4ea0967c617b50de7aa4\"></div>\n",
       "<script type=\"text/javascript\">\n",
       "  var VEGA_DEBUG = (typeof VEGA_DEBUG == \"undefined\") ? {} : VEGA_DEBUG;\n",
       "  (function(spec, embedOpt){\n",
       "    let outputDiv = document.currentScript.previousElementSibling;\n",
       "    if (outputDiv.id !== \"altair-viz-6256b8c0778e4ea0967c617b50de7aa4\") {\n",
       "      outputDiv = document.getElementById(\"altair-viz-6256b8c0778e4ea0967c617b50de7aa4\");\n",
       "    }\n",
       "    const paths = {\n",
       "      \"vega\": \"https://cdn.jsdelivr.net/npm//vega@5?noext\",\n",
       "      \"vega-lib\": \"https://cdn.jsdelivr.net/npm//vega-lib?noext\",\n",
       "      \"vega-lite\": \"https://cdn.jsdelivr.net/npm//vega-lite@4.17.0?noext\",\n",
       "      \"vega-embed\": \"https://cdn.jsdelivr.net/npm//vega-embed@6?noext\",\n",
       "    };\n",
       "\n",
       "    function maybeLoadScript(lib, version) {\n",
       "      var key = `${lib.replace(\"-\", \"\")}_version`;\n",
       "      return (VEGA_DEBUG[key] == version) ?\n",
       "        Promise.resolve(paths[lib]) :\n",
       "        new Promise(function(resolve, reject) {\n",
       "          var s = document.createElement('script');\n",
       "          document.getElementsByTagName(\"head\")[0].appendChild(s);\n",
       "          s.async = true;\n",
       "          s.onload = () => {\n",
       "            VEGA_DEBUG[key] = version;\n",
       "            return resolve(paths[lib]);\n",
       "          };\n",
       "          s.onerror = () => reject(`Error loading script: ${paths[lib]}`);\n",
       "          s.src = paths[lib];\n",
       "        });\n",
       "    }\n",
       "\n",
       "    function showError(err) {\n",
       "      outputDiv.innerHTML = `<div class=\"error\" style=\"color:red;\">${err}</div>`;\n",
       "      throw err;\n",
       "    }\n",
       "\n",
       "    function displayChart(vegaEmbed) {\n",
       "      vegaEmbed(outputDiv, spec, embedOpt)\n",
       "        .catch(err => showError(`Javascript Error: ${err.message}<br>This usually means there's a typo in your chart specification. See the javascript console for the full traceback.`));\n",
       "    }\n",
       "\n",
       "    if(typeof define === \"function\" && define.amd) {\n",
       "      requirejs.config({paths});\n",
       "      require([\"vega-embed\"], displayChart, err => showError(`Error loading script: ${err.message}`));\n",
       "    } else {\n",
       "      maybeLoadScript(\"vega\", \"5\")\n",
       "        .then(() => maybeLoadScript(\"vega-lite\", \"4.17.0\"))\n",
       "        .then(() => maybeLoadScript(\"vega-embed\", \"6\"))\n",
       "        .catch(showError)\n",
       "        .then(() => displayChart(vegaEmbed));\n",
       "    }\n",
       "  })({\"config\": {\"view\": {\"continuousWidth\": 400, \"continuousHeight\": 300}}, \"hconcat\": [{\"mark\": \"geoshape\", \"encoding\": {\"color\": {\"field\": \"meanScoreSF2020\", \"type\": \"quantitative\"}, \"tooltip\": [{\"field\": \"NTAName\", \"type\": \"nominal\"}, {\"field\": \"meanScoreSF2020\", \"type\": \"quantitative\"}, {\"field\": \"buildingCount\", \"type\": \"quantitative\"}, {\"field\": \"NTA2020\", \"type\": \"nominal\"}]}}, {\"mark\": \"geoshape\", \"encoding\": {\"color\": {\"field\": \"meanScoreSF2021\", \"type\": \"quantitative\"}, \"tooltip\": [{\"field\": \"NTAName\", \"type\": \"nominal\"}, {\"field\": \"meanScoreSF2021\", \"type\": \"quantitative\"}, {\"field\": \"buildingCount\", \"type\": \"quantitative\"}, {\"field\": \"NTA2020\", \"type\": \"nominal\"}]}}], \"data\": {\"url\": \"altair-data-493718b58fc3a17125cbe358758b3f65.json\", \"format\": {\"type\": \"json\"}}, \"$schema\": \"https://vega.github.io/schema/vega-lite/v4.17.0.json\"}, {\"mode\": \"vega-lite\"});\n",
       "</script>"
      ],
      "text/plain": [
       "alt.HConcatChart(...)"
      ]
     },
     "execution_count": 69,
     "metadata": {},
     "output_type": "execute_result"
    }
   ],
   "source": [
    "map2020 = alt.Chart(ntaData).mark_geoshape().encode(\n",
    "    color=alt.Color('meanScoreSF2020:Q'),\n",
    "    tooltip=alt.Tooltip(['NTAName:N','meanScoreSF2020:Q','buildingCount:Q','NTA2020:N'])\n",
    ")\n",
    "map2021 = alt.Chart(ntaData).mark_geoshape().encode(\n",
    "    color=alt.Color('meanScoreSF2021:Q'),\n",
    "    tooltip=alt.Tooltip(['NTAName:N','meanScoreSF2021:Q','buildingCount:Q','NTA2020:N'])\n",
    ")\n",
    "alt.hconcat(map2020, map2021)"
   ]
  },
  {
   "cell_type": "code",
   "execution_count": 63,
   "metadata": {},
   "outputs": [],
   "source": [
    "ntaData['meanScoreChange'] = (ntaData['meanScoreSF2021'] - ntaData['meanScoreSF2020']) / ntaData['meanScoreSF2020']\n",
    "ntaData['rawMeanScoreChange'] = (ntaData['meanScoreSF2021'] - ntaData['meanScoreSF2020'])"
   ]
  },
  {
   "cell_type": "code",
   "execution_count": 64,
   "metadata": {},
   "outputs": [
    {
     "data": {
      "text/html": [
       "\n",
       "<div id=\"altair-viz-dae484fa22d0490d9d6fedd41015364c\"></div>\n",
       "<script type=\"text/javascript\">\n",
       "  var VEGA_DEBUG = (typeof VEGA_DEBUG == \"undefined\") ? {} : VEGA_DEBUG;\n",
       "  (function(spec, embedOpt){\n",
       "    let outputDiv = document.currentScript.previousElementSibling;\n",
       "    if (outputDiv.id !== \"altair-viz-dae484fa22d0490d9d6fedd41015364c\") {\n",
       "      outputDiv = document.getElementById(\"altair-viz-dae484fa22d0490d9d6fedd41015364c\");\n",
       "    }\n",
       "    const paths = {\n",
       "      \"vega\": \"https://cdn.jsdelivr.net/npm//vega@5?noext\",\n",
       "      \"vega-lib\": \"https://cdn.jsdelivr.net/npm//vega-lib?noext\",\n",
       "      \"vega-lite\": \"https://cdn.jsdelivr.net/npm//vega-lite@4.17.0?noext\",\n",
       "      \"vega-embed\": \"https://cdn.jsdelivr.net/npm//vega-embed@6?noext\",\n",
       "    };\n",
       "\n",
       "    function maybeLoadScript(lib, version) {\n",
       "      var key = `${lib.replace(\"-\", \"\")}_version`;\n",
       "      return (VEGA_DEBUG[key] == version) ?\n",
       "        Promise.resolve(paths[lib]) :\n",
       "        new Promise(function(resolve, reject) {\n",
       "          var s = document.createElement('script');\n",
       "          document.getElementsByTagName(\"head\")[0].appendChild(s);\n",
       "          s.async = true;\n",
       "          s.onload = () => {\n",
       "            VEGA_DEBUG[key] = version;\n",
       "            return resolve(paths[lib]);\n",
       "          };\n",
       "          s.onerror = () => reject(`Error loading script: ${paths[lib]}`);\n",
       "          s.src = paths[lib];\n",
       "        });\n",
       "    }\n",
       "\n",
       "    function showError(err) {\n",
       "      outputDiv.innerHTML = `<div class=\"error\" style=\"color:red;\">${err}</div>`;\n",
       "      throw err;\n",
       "    }\n",
       "\n",
       "    function displayChart(vegaEmbed) {\n",
       "      vegaEmbed(outputDiv, spec, embedOpt)\n",
       "        .catch(err => showError(`Javascript Error: ${err.message}<br>This usually means there's a typo in your chart specification. See the javascript console for the full traceback.`));\n",
       "    }\n",
       "\n",
       "    if(typeof define === \"function\" && define.amd) {\n",
       "      requirejs.config({paths});\n",
       "      require([\"vega-embed\"], displayChart, err => showError(`Error loading script: ${err.message}`));\n",
       "    } else {\n",
       "      maybeLoadScript(\"vega\", \"5\")\n",
       "        .then(() => maybeLoadScript(\"vega-lite\", \"4.17.0\"))\n",
       "        .then(() => maybeLoadScript(\"vega-embed\", \"6\"))\n",
       "        .catch(showError)\n",
       "        .then(() => displayChart(vegaEmbed));\n",
       "    }\n",
       "  })({\"config\": {\"view\": {\"continuousWidth\": 400, \"continuousHeight\": 300}}, \"data\": {\"url\": \"altair-data-493718b58fc3a17125cbe358758b3f65.json\", \"format\": {\"type\": \"json\"}}, \"mark\": \"geoshape\", \"encoding\": {\"color\": {\"field\": \"rawMeanScoreChange\", \"type\": \"quantitative\"}}, \"$schema\": \"https://vega.github.io/schema/vega-lite/v4.17.0.json\"}, {\"mode\": \"vega-lite\"});\n",
       "</script>"
      ],
      "text/plain": [
       "alt.Chart(...)"
      ]
     },
     "execution_count": 64,
     "metadata": {},
     "output_type": "execute_result"
    }
   ],
   "source": [
    "alt.Chart(ntaData).mark_geoshape().encode(\n",
    "    color=alt.Color('rawMeanScoreChange:Q')\n",
    ")"
   ]
  },
  {
   "cell_type": "code",
   "execution_count": 65,
   "metadata": {},
   "outputs": [
    {
     "data": {
      "text/html": [
       "\n",
       "<div id=\"altair-viz-21d6a911d4a04eb79628fae82d514062\"></div>\n",
       "<script type=\"text/javascript\">\n",
       "  var VEGA_DEBUG = (typeof VEGA_DEBUG == \"undefined\") ? {} : VEGA_DEBUG;\n",
       "  (function(spec, embedOpt){\n",
       "    let outputDiv = document.currentScript.previousElementSibling;\n",
       "    if (outputDiv.id !== \"altair-viz-21d6a911d4a04eb79628fae82d514062\") {\n",
       "      outputDiv = document.getElementById(\"altair-viz-21d6a911d4a04eb79628fae82d514062\");\n",
       "    }\n",
       "    const paths = {\n",
       "      \"vega\": \"https://cdn.jsdelivr.net/npm//vega@5?noext\",\n",
       "      \"vega-lib\": \"https://cdn.jsdelivr.net/npm//vega-lib?noext\",\n",
       "      \"vega-lite\": \"https://cdn.jsdelivr.net/npm//vega-lite@4.17.0?noext\",\n",
       "      \"vega-embed\": \"https://cdn.jsdelivr.net/npm//vega-embed@6?noext\",\n",
       "    };\n",
       "\n",
       "    function maybeLoadScript(lib, version) {\n",
       "      var key = `${lib.replace(\"-\", \"\")}_version`;\n",
       "      return (VEGA_DEBUG[key] == version) ?\n",
       "        Promise.resolve(paths[lib]) :\n",
       "        new Promise(function(resolve, reject) {\n",
       "          var s = document.createElement('script');\n",
       "          document.getElementsByTagName(\"head\")[0].appendChild(s);\n",
       "          s.async = true;\n",
       "          s.onload = () => {\n",
       "            VEGA_DEBUG[key] = version;\n",
       "            return resolve(paths[lib]);\n",
       "          };\n",
       "          s.onerror = () => reject(`Error loading script: ${paths[lib]}`);\n",
       "          s.src = paths[lib];\n",
       "        });\n",
       "    }\n",
       "\n",
       "    function showError(err) {\n",
       "      outputDiv.innerHTML = `<div class=\"error\" style=\"color:red;\">${err}</div>`;\n",
       "      throw err;\n",
       "    }\n",
       "\n",
       "    function displayChart(vegaEmbed) {\n",
       "      vegaEmbed(outputDiv, spec, embedOpt)\n",
       "        .catch(err => showError(`Javascript Error: ${err.message}<br>This usually means there's a typo in your chart specification. See the javascript console for the full traceback.`));\n",
       "    }\n",
       "\n",
       "    if(typeof define === \"function\" && define.amd) {\n",
       "      requirejs.config({paths});\n",
       "      require([\"vega-embed\"], displayChart, err => showError(`Error loading script: ${err.message}`));\n",
       "    } else {\n",
       "      maybeLoadScript(\"vega\", \"5\")\n",
       "        .then(() => maybeLoadScript(\"vega-lite\", \"4.17.0\"))\n",
       "        .then(() => maybeLoadScript(\"vega-embed\", \"6\"))\n",
       "        .catch(showError)\n",
       "        .then(() => displayChart(vegaEmbed));\n",
       "    }\n",
       "  })({\"config\": {\"view\": {\"continuousWidth\": 400, \"continuousHeight\": 300}}, \"data\": {\"url\": \"altair-data-493718b58fc3a17125cbe358758b3f65.json\", \"format\": {\"type\": \"json\"}}, \"mark\": \"geoshape\", \"encoding\": {\"color\": {\"field\": \"buildingCount\", \"type\": \"quantitative\"}}, \"$schema\": \"https://vega.github.io/schema/vega-lite/v4.17.0.json\"}, {\"mode\": \"vega-lite\"});\n",
       "</script>"
      ],
      "text/plain": [
       "alt.Chart(...)"
      ]
     },
     "execution_count": 65,
     "metadata": {},
     "output_type": "execute_result"
    }
   ],
   "source": [
    "alt.Chart(ntaData).mark_geoshape().encode(\n",
    "    color=alt.Color('buildingCount:Q')\n",
    ")"
   ]
  },
  {
   "cell_type": "code",
   "execution_count": null,
   "metadata": {},
   "outputs": [],
   "source": [
    "buildingEnergyData.head()"
   ]
  },
  {
   "cell_type": "code",
   "execution_count": 67,
   "metadata": {},
   "outputs": [],
   "source": [
    "buildingEnergyData = buildingEnergyData.merge(buildingCentroids[['BBL','NTA2020']], on='BBL', how='left')"
   ]
  },
  {
   "cell_type": "code",
   "execution_count": 68,
   "metadata": {},
   "outputs": [
    {
     "data": {
      "text/html": [
       "<div>\n",
       "<style scoped>\n",
       "    .dataframe tbody tr th:only-of-type {\n",
       "        vertical-align: middle;\n",
       "    }\n",
       "\n",
       "    .dataframe tbody tr th {\n",
       "        vertical-align: top;\n",
       "    }\n",
       "\n",
       "    .dataframe thead th {\n",
       "        text-align: right;\n",
       "    }\n",
       "</style>\n",
       "<table border=\"1\" class=\"dataframe\">\n",
       "  <thead>\n",
       "    <tr style=\"text-align: right;\">\n",
       "      <th></th>\n",
       "      <th>Borough</th>\n",
       "      <th>Block</th>\n",
       "      <th>Lot</th>\n",
       "      <th>BuildingCount</th>\n",
       "      <th>GrossSF</th>\n",
       "      <th>StreetNumber</th>\n",
       "      <th>StreetName</th>\n",
       "      <th>BBL</th>\n",
       "      <th>EnergyScore2020</th>\n",
       "      <th>EnergyGrade2020</th>\n",
       "      <th>geometry</th>\n",
       "      <th>EnergyScore2021</th>\n",
       "      <th>EnergyGrade2021</th>\n",
       "      <th>change</th>\n",
       "      <th>perChange</th>\n",
       "      <th>NTA2020</th>\n",
       "    </tr>\n",
       "  </thead>\n",
       "  <tbody>\n",
       "    <tr>\n",
       "      <th>0</th>\n",
       "      <td>1</td>\n",
       "      <td>4</td>\n",
       "      <td>7501</td>\n",
       "      <td>1</td>\n",
       "      <td>2542563</td>\n",
       "      <td>1</td>\n",
       "      <td>WATER STREET</td>\n",
       "      <td>1000047501</td>\n",
       "      <td>61</td>\n",
       "      <td>C</td>\n",
       "      <td>POLYGON ((980743.918 195179.570, 980767.866 19...</td>\n",
       "      <td>55.0</td>\n",
       "      <td>C</td>\n",
       "      <td>-6.0</td>\n",
       "      <td>-0.098361</td>\n",
       "      <td>MN0101</td>\n",
       "    </tr>\n",
       "    <tr>\n",
       "      <th>1</th>\n",
       "      <td>1</td>\n",
       "      <td>5</td>\n",
       "      <td>7501</td>\n",
       "      <td>1</td>\n",
       "      <td>1354691</td>\n",
       "      <td>125</td>\n",
       "      <td>BROAD STREET</td>\n",
       "      <td>1000057501</td>\n",
       "      <td>76</td>\n",
       "      <td>B</td>\n",
       "      <td>POLYGON ((981143.319 195192.427, 981444.122 19...</td>\n",
       "      <td>84.0</td>\n",
       "      <td>B</td>\n",
       "      <td>8.0</td>\n",
       "      <td>0.105263</td>\n",
       "      <td>MN0101</td>\n",
       "    </tr>\n",
       "    <tr>\n",
       "      <th>2</th>\n",
       "      <td>1</td>\n",
       "      <td>8</td>\n",
       "      <td>7501</td>\n",
       "      <td>1</td>\n",
       "      <td>169061</td>\n",
       "      <td>2</td>\n",
       "      <td>WATER STREET</td>\n",
       "      <td>1000087501</td>\n",
       "      <td>13</td>\n",
       "      <td>D</td>\n",
       "      <td>POLYGON ((980706.216 195308.503, 980676.743 19...</td>\n",
       "      <td>4.0</td>\n",
       "      <td>D</td>\n",
       "      <td>-9.0</td>\n",
       "      <td>-0.692308</td>\n",
       "      <td>MN0101</td>\n",
       "    </tr>\n",
       "    <tr>\n",
       "      <th>3</th>\n",
       "      <td>1</td>\n",
       "      <td>9</td>\n",
       "      <td>1</td>\n",
       "      <td>1</td>\n",
       "      <td>692431</td>\n",
       "      <td>34</td>\n",
       "      <td>WHITEHALL STREET</td>\n",
       "      <td>1000090001</td>\n",
       "      <td>72</td>\n",
       "      <td>B</td>\n",
       "      <td>POLYGON ((980485.523 195315.698, 980495.527 19...</td>\n",
       "      <td>83.0</td>\n",
       "      <td>B</td>\n",
       "      <td>11.0</td>\n",
       "      <td>0.152778</td>\n",
       "      <td>MN0101</td>\n",
       "    </tr>\n",
       "    <tr>\n",
       "      <th>4</th>\n",
       "      <td>1</td>\n",
       "      <td>10</td>\n",
       "      <td>16</td>\n",
       "      <td>1</td>\n",
       "      <td>336025</td>\n",
       "      <td>90</td>\n",
       "      <td>BROAD STREET</td>\n",
       "      <td>1000100016</td>\n",
       "      <td>81</td>\n",
       "      <td>B</td>\n",
       "      <td>POLYGON ((980867.416 195630.104, 980871.694 19...</td>\n",
       "      <td>81.0</td>\n",
       "      <td>B</td>\n",
       "      <td>0.0</td>\n",
       "      <td>0.000000</td>\n",
       "      <td>MN0101</td>\n",
       "    </tr>\n",
       "  </tbody>\n",
       "</table>\n",
       "</div>"
      ],
      "text/plain": [
       "   Borough  Block   Lot  BuildingCount  GrossSF StreetNumber  \\\n",
       "0        1      4  7501              1  2542563            1   \n",
       "1        1      5  7501              1  1354691          125   \n",
       "2        1      8  7501              1   169061            2   \n",
       "3        1      9     1              1   692431           34   \n",
       "4        1     10    16              1   336025           90   \n",
       "\n",
       "         StreetName         BBL  EnergyScore2020 EnergyGrade2020  \\\n",
       "0      WATER STREET  1000047501               61               C   \n",
       "1      BROAD STREET  1000057501               76               B   \n",
       "2      WATER STREET  1000087501               13               D   \n",
       "3  WHITEHALL STREET  1000090001               72               B   \n",
       "4      BROAD STREET  1000100016               81               B   \n",
       "\n",
       "                                            geometry  EnergyScore2021  \\\n",
       "0  POLYGON ((980743.918 195179.570, 980767.866 19...             55.0   \n",
       "1  POLYGON ((981143.319 195192.427, 981444.122 19...             84.0   \n",
       "2  POLYGON ((980706.216 195308.503, 980676.743 19...              4.0   \n",
       "3  POLYGON ((980485.523 195315.698, 980495.527 19...             83.0   \n",
       "4  POLYGON ((980867.416 195630.104, 980871.694 19...             81.0   \n",
       "\n",
       "  EnergyGrade2021  change  perChange NTA2020  \n",
       "0               C    -6.0  -0.098361  MN0101  \n",
       "1               B     8.0   0.105263  MN0101  \n",
       "2               D    -9.0  -0.692308  MN0101  \n",
       "3               B    11.0   0.152778  MN0101  \n",
       "4               B     0.0   0.000000  MN0101  "
      ]
     },
     "execution_count": 68,
     "metadata": {},
     "output_type": "execute_result"
    }
   ],
   "source": [
    "buildingEnergyData.head()"
   ]
  },
  {
   "cell_type": "code",
   "execution_count": 77,
   "metadata": {},
   "outputs": [],
   "source": [
    "buildingEnergyData.to_crs(epsg=4326, inplace=True)"
   ]
  },
  {
   "cell_type": "code",
   "execution_count": 84,
   "metadata": {},
   "outputs": [
    {
     "data": {
      "text/html": [
       "\n",
       "<div id=\"altair-viz-a8d03c749fc54c58a67ecc3aeaa12e30\"></div>\n",
       "<script type=\"text/javascript\">\n",
       "  var VEGA_DEBUG = (typeof VEGA_DEBUG == \"undefined\") ? {} : VEGA_DEBUG;\n",
       "  (function(spec, embedOpt){\n",
       "    let outputDiv = document.currentScript.previousElementSibling;\n",
       "    if (outputDiv.id !== \"altair-viz-a8d03c749fc54c58a67ecc3aeaa12e30\") {\n",
       "      outputDiv = document.getElementById(\"altair-viz-a8d03c749fc54c58a67ecc3aeaa12e30\");\n",
       "    }\n",
       "    const paths = {\n",
       "      \"vega\": \"https://cdn.jsdelivr.net/npm//vega@5?noext\",\n",
       "      \"vega-lib\": \"https://cdn.jsdelivr.net/npm//vega-lib?noext\",\n",
       "      \"vega-lite\": \"https://cdn.jsdelivr.net/npm//vega-lite@4.17.0?noext\",\n",
       "      \"vega-embed\": \"https://cdn.jsdelivr.net/npm//vega-embed@6?noext\",\n",
       "    };\n",
       "\n",
       "    function maybeLoadScript(lib, version) {\n",
       "      var key = `${lib.replace(\"-\", \"\")}_version`;\n",
       "      return (VEGA_DEBUG[key] == version) ?\n",
       "        Promise.resolve(paths[lib]) :\n",
       "        new Promise(function(resolve, reject) {\n",
       "          var s = document.createElement('script');\n",
       "          document.getElementsByTagName(\"head\")[0].appendChild(s);\n",
       "          s.async = true;\n",
       "          s.onload = () => {\n",
       "            VEGA_DEBUG[key] = version;\n",
       "            return resolve(paths[lib]);\n",
       "          };\n",
       "          s.onerror = () => reject(`Error loading script: ${paths[lib]}`);\n",
       "          s.src = paths[lib];\n",
       "        });\n",
       "    }\n",
       "\n",
       "    function showError(err) {\n",
       "      outputDiv.innerHTML = `<div class=\"error\" style=\"color:red;\">${err}</div>`;\n",
       "      throw err;\n",
       "    }\n",
       "\n",
       "    function displayChart(vegaEmbed) {\n",
       "      vegaEmbed(outputDiv, spec, embedOpt)\n",
       "        .catch(err => showError(`Javascript Error: ${err.message}<br>This usually means there's a typo in your chart specification. See the javascript console for the full traceback.`));\n",
       "    }\n",
       "\n",
       "    if(typeof define === \"function\" && define.amd) {\n",
       "      requirejs.config({paths});\n",
       "      require([\"vega-embed\"], displayChart, err => showError(`Error loading script: ${err.message}`));\n",
       "    } else {\n",
       "      maybeLoadScript(\"vega\", \"5\")\n",
       "        .then(() => maybeLoadScript(\"vega-lite\", \"4.17.0\"))\n",
       "        .then(() => maybeLoadScript(\"vega-embed\", \"6\"))\n",
       "        .catch(showError)\n",
       "        .then(() => displayChart(vegaEmbed));\n",
       "    }\n",
       "  })({\"config\": {\"view\": {\"continuousWidth\": 400, \"continuousHeight\": 300}}, \"data\": {\"url\": \"altair-data-bc7f81e5e983dc6f473efe9b4c471144.json\", \"format\": {\"type\": \"json\"}}, \"mark\": \"geoshape\", \"encoding\": {\"color\": {\"field\": \"change\", \"scale\": {\"scheme\": \"redblue\"}, \"type\": \"quantitative\"}}, \"$schema\": \"https://vega.github.io/schema/vega-lite/v4.17.0.json\"}, {\"mode\": \"vega-lite\"});\n",
       "</script>"
      ],
      "text/plain": [
       "alt.Chart(...)"
      ]
     },
     "execution_count": 84,
     "metadata": {},
     "output_type": "execute_result"
    }
   ],
   "source": [
    "alt.Chart(buildingEnergyData[buildingEnergyData['NTA2020'].isin(['MN0502','MN0402','MN0401','MN0501','MN0604','MN0603'])]).mark_geoshape().encode(\n",
    "    color=alt.Color('change:Q', scale=alt.Scale(scheme='redblue'))\n",
    ")"
   ]
  },
  {
   "cell_type": "code",
   "execution_count": null,
   "metadata": {},
   "outputs": [],
   "source": []
  },
  {
   "cell_type": "markdown",
   "metadata": {},
   "source": [
    "* Age of building (join to PLUTO)\n",
    "* Age of rennovation\n",
    "* Building class or zonning\n",
    "* NTA with the highest and lowest avg grade\n",
    "* NTA with the highest and lowest grade normalized by sqft\n",
    "* NTA with the greatest weighted change normalized by sqft\n",
    "* Compare different universities\n",
    "* Look for NTA with the highest std\n",
    "* Look for NTA with the hightest number of buildings and map that one"
   ]
  },
  {
   "cell_type": "code",
   "execution_count": null,
   "metadata": {},
   "outputs": [],
   "source": []
  },
  {
   "cell_type": "code",
   "execution_count": null,
   "metadata": {},
   "outputs": [],
   "source": [
    "buildingCentroids.head()"
   ]
  },
  {
   "cell_type": "markdown",
   "metadata": {},
   "source": [
    "* Bring in the NTA data\n",
    "* Spatial join:\n",
    "  * Do we need centroids?\n",
    "  * Can we do it with text attribute?\n",
    "  * Spatial join\n",
    "* Visualize the NTAs\n",
    "* Use the NTAs to choose areas:\n",
    "  * very low grades or very high\n",
    "  * most overall change\n",
    "  * Greatest area\n",
    "* Do we do grade multiplied by area?"
   ]
  },
  {
   "cell_type": "code",
   "execution_count": null,
   "metadata": {},
   "outputs": [],
   "source": [
    "alt.Chart(energyData2020).mark_geoshape().encode(\n",
    "    color=alt.Color('EnergyStar:Q')\n",
    ")"
   ]
  },
  {
   "cell_type": "code",
   "execution_count": null,
   "metadata": {},
   "outputs": [],
   "source": [
    "energyData2020[energyData2020['BBL'].isin(energyData2021['BBL'])]"
   ]
  },
  {
   "cell_type": "code",
   "execution_count": null,
   "metadata": {},
   "outputs": [],
   "source": [
    "energyData2021[energyData2021['BBL'].isin(energyData2020['BBL'])]"
   ]
  },
  {
   "cell_type": "code",
   "execution_count": null,
   "metadata": {},
   "outputs": [],
   "source": [
    "energyData2020[~energyData2020['BBL'].isin(energyData2021['BBL'])]"
   ]
  },
  {
   "cell_type": "code",
   "execution_count": null,
   "metadata": {},
   "outputs": [],
   "source": [
    "energyData2021[~energyData2021['BBL'].isin(energyData2020['BBL'])]"
   ]
  },
  {
   "cell_type": "code",
   "execution_count": null,
   "metadata": {},
   "outputs": [],
   "source": []
  }
 ],
 "metadata": {
  "interpreter": {
   "hash": "aee8b7b246df8f9039afb4144a1f6fd8d2ca17a180786b69acc140d282b71a49"
  },
  "kernelspec": {
   "display_name": "Python 3.9.10 64-bit",
   "language": "python",
   "name": "python3"
  },
  "language_info": {
   "codemirror_mode": {
    "name": "ipython",
    "version": 3
   },
   "file_extension": ".py",
   "mimetype": "text/x-python",
   "name": "python",
   "nbconvert_exporter": "python",
   "pygments_lexer": "ipython3",
   "version": "3.9.10"
  },
  "orig_nbformat": 4
 },
 "nbformat": 4,
 "nbformat_minor": 2
}
